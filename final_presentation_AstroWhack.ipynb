{
 "cells": [
  {
   "cell_type": "markdown",
   "metadata": {
    "nbpresent": {
     "id": "bb43365d-32e1-4b4b-9bb5-678e32db901e"
    }
   },
   "source": [
    "# Astrohack 2017\n",
    "\n",
    "## Quick & Dirty Solution\n",
    "\n",
    "### Team AstroWhack\n",
    "* Ken Bastiaensen\n",
    "* (Benjamin Vandermarliere)\n",
    "* ((Jannes Nys))"
   ]
  },
  {
   "cell_type": "markdown",
   "metadata": {
    "nbpresent": {
     "id": "ea658e75-f8f4-421b-98af-49f1ca0fc5f3"
    }
   },
   "source": [
    "# Quick & Dirty"
   ]
  },
  {
   "cell_type": "markdown",
   "metadata": {
    "nbpresent": {
     "id": "8afa4d7a-f50e-4f9b-9d86-246349c029f8"
    }
   },
   "source": [
    "# Quick → Julia on my laptop\n",
    "\n",
    "# Dirty  → Simplest plan of attack\n",
    "* Minimal preprocess to select galaxy\n",
    "* Get some features\n",
    "* Run XGBoost\n",
    "* ...\n",
    "* Profits!"
   ]
  },
  {
   "cell_type": "markdown",
   "metadata": {
    "nbpresent": {
     "id": "f54df491-5c03-4afa-a0fd-a33ca5dc9488"
    }
   },
   "source": [
    "# Preprocess\n",
    "* smooth image and threshold to create binary image \n",
    "* use `Images.label_components` to label connected pixels (blobs) \n",
    "* central blob = galaxy \n",
    "* crop central galaxy by using symmetry: **minimum** of deviations around center for each axis\n",
    "* set non-label components in crop to zero"
   ]
  },
  {
   "cell_type": "markdown",
   "metadata": {
    "nbpresent": {
     "id": "2f3dc41e-5beb-4f22-affb-05b906b9665e"
    }
   },
   "source": [
    "Some features:\n",
    "* Distance\n",
    "* Gert: intensity of light \n",
    "  * some sums \n",
    "* Benjamin: symmetry\n",
    "  * eigenvalues\n",
    "* prof Maarten Baes: lighter galaxies are more bumpy\n",
    "  * entropy\n",
    "* Some guy on internet: different noise levels per image\n",
    "  * some low percentiles of full image\n"
   ]
  },
  {
   "attachments": {},
   "cell_type": "markdown",
   "metadata": {
    "nbpresent": {
     "id": "066e0cf3-fd84-49f3-8632-cd9ab1dac988"
    }
   },
   "source": [
    "I want to thank:\n",
    "* Gert for great organisation!\n",
    "* Julia for fast and beautiful language!\n",
    "* XGBoost for amazing regressions!\n",
    "* Benjamin and everyone else for fun vibe!"
   ]
  },
  {
   "cell_type": "code",
   "execution_count": 1,
   "metadata": {
    "collapsed": true,
    "nbpresent": {
     "id": "2e179963-8ff2-4f55-aab0-ad7c4df9069d"
    },
    "scrolled": true
   },
   "outputs": [],
   "source": [
    "using Images, ImageDraw"
   ]
  },
  {
   "cell_type": "code",
   "execution_count": 2,
   "metadata": {
    "nbpresent": {
     "id": "206da2d6-188c-4267-85fc-a47f646f6f53"
    }
   },
   "outputs": [
    {
     "data": {
      "text/html": [
       "<div id=\"interact-js-shim\">\n",
       "    <script charset=\"utf-8\">\n",
       "(function (IPython, $, _, MathJax) {\n",
       "    $.event.special.destroyed = {\n",
       "\tremove: function(o) {\n",
       "\t    if (o.handler) {\n",
       "\t\to.handler.apply(this, arguments)\n",
       "\t    }\n",
       "\t}\n",
       "    }\n",
       "\n",
       "    var OutputArea = IPython.version >= \"4.0.0\" ? require(\"notebook/js/outputarea\").OutputArea : IPython.OutputArea;\n",
       "\n",
       "    var redrawValue = function (container, type, val) {\n",
       "\tvar selector = $(\"<div/>\");\n",
       "\tvar oa = new OutputArea(_.extend(selector, {\n",
       "\t    selector: selector,\n",
       "\t    prompt_area: true,\n",
       "\t    events: IPython.events,\n",
       "\t    keyboard_manager: IPython.keyboard_manager\n",
       "\t})); // Hack to work with IPython 2.1.0\n",
       "\n",
       "\tswitch (type) {\n",
       "\tcase \"image/png\":\n",
       "            var _src = 'data:' + type + ';base64,' + val;\n",
       "\t    $(container).find(\"img\").attr('src', _src);\n",
       "\t    break;\n",
       "\tcase \"text/latex\":\n",
       "\t\tif (MathJax){\n",
       "\t\t\tvar math = MathJax.Hub.getAllJax(container)[0];\n",
       "\t\t\tMathJax.Hub.Queue([\"Text\", math, val.replace(/^\\${1,2}|\\${1,2}$/g, '')]);\n",
       "\t\t\tbreak;\n",
       "\t\t}\n",
       "\tdefault:\n",
       "\t    var toinsert = OutputArea.append_map[type].apply(\n",
       "\t\toa, [val, {}, selector]\n",
       "\t    );\n",
       "\t    $(container).empty().append(toinsert.contents());\n",
       "\t    selector.remove();\n",
       "\t}\n",
       "    }\n",
       "\n",
       "\n",
       "    $(document).ready(function() {\n",
       "\tfunction initComm(evt, data) {\n",
       "\t    var comm_manager = data.kernel.comm_manager;\n",
       "        //_.extend(comm_manager.targets, require(\"widgets/js/widget\"))\n",
       "\t    comm_manager.register_target(\"Signal\", function (comm) {\n",
       "            comm.on_msg(function (msg) {\n",
       "                var val = msg.content.data.value;\n",
       "                $(\".signal-\" + comm.comm_id).each(function() {\n",
       "                var type = $(this).data(\"type\");\n",
       "                if (typeof(val[type]) !== \"undefined\" && val[type] !== null) {\n",
       "                    redrawValue(this, type, val[type], type);\n",
       "                }\n",
       "                });\n",
       "                delete val;\n",
       "                delete msg.content.data.value;\n",
       "            });\n",
       "\t    });\n",
       "\n",
       "\t    // coordingate with Comm and redraw Signals\n",
       "\t    // XXX: Test using Reactive here to improve performance\n",
       "\t    $([IPython.events]).on(\n",
       "\t\t'output_appended.OutputArea', function (event, type, value, md, toinsert) {\n",
       "\t\t    if (md && md.reactive) {\n",
       "                // console.log(md.comm_id);\n",
       "                toinsert.addClass(\"signal-\" + md.comm_id);\n",
       "                toinsert.data(\"type\", type);\n",
       "                // Signal back indicating the mimetype required\n",
       "                var comm_manager = IPython.notebook.kernel.comm_manager;\n",
       "                var comm = comm_manager.comms[md.comm_id];\n",
       "                comm.then(function (c) {\n",
       "                    c.send({action: \"subscribe_mime\",\n",
       "                       mime: type});\n",
       "                    toinsert.bind(\"destroyed\", function() {\n",
       "                        c.send({action: \"unsubscribe_mime\",\n",
       "                               mime: type});\n",
       "                    });\n",
       "                })\n",
       "\t\t    }\n",
       "\t    });\n",
       "\t}\n",
       "\n",
       "\ttry {\n",
       "\t    // try to initialize right away. otherwise, wait on the status_started event.\n",
       "\t    initComm(undefined, IPython.notebook);\n",
       "\t} catch (e) {\n",
       "\t    $([IPython.events]).on('kernel_created.Kernel kernel_created.Session', initComm);\n",
       "\t}\n",
       "    });\n",
       "})(IPython, jQuery, _, MathJax);\n",
       "</script>\n",
       "    <script>\n",
       "        window.interactLoadedFlag = true\n",
       "       $(\"#interact-js-shim\").bind(\"destroyed\", function () {\n",
       "           if (window.interactLoadedFlag) {\n",
       "               console.warn(\"JavaScript required by Interact will be removed if you remove this cell or run using Interact more than once.\")\n",
       "           }\n",
       "       })\n",
       "       $([IPython.events]).on(\"kernel_starting.Kernel kernel_restarting.Kernel\", function () { window.interactLoadedFlag = false })\n",
       "   </script>\n",
       "</div>"
      ]
     },
     "metadata": {},
     "output_type": "display_data"
    }
   ],
   "source": [
    "using Interact, BenchmarkTools"
   ]
  },
  {
   "cell_type": "markdown",
   "metadata": {
    "nbpresent": {
     "id": "090b4532-17d3-4dac-96a2-0770b7d960b0"
    }
   },
   "source": [
    "# Load a file and preprocess a bit"
   ]
  },
  {
   "cell_type": "code",
   "execution_count": 3,
   "metadata": {
    "collapsed": true,
    "nbpresent": {
     "id": "ee6cc557-cd74-4f55-b7d2-3625a2c9b9b7"
    }
   },
   "outputs": [],
   "source": [
    "sampledir = \"/Users/ken/Coding/astrohack/Astrohack/Sample_Data/SAMPLE/\"\n",
    "\n",
    "files = readdir(sampledir)\n",
    "\n",
    "ids = String[first(split(f, \"-\")) for f in files if f[end-4]=='g'];"
   ]
  },
  {
   "cell_type": "code",
   "execution_count": 4,
   "metadata": {
    "nbpresent": {
     "id": "9d0369c7-e6cb-4626-907c-e1720a097aed"
    }
   },
   "outputs": [
    {
     "name": "stdout",
     "output_type": "stream",
     "text": [
      "  1.183841 seconds (2.03 M allocations: 70.628 MB, 1.49% gc time)\n"
     ]
    },
    {
     "data": {
      "image/png": "[encoded data removed]",
      "text/plain": [
       "151×151 Array{Gray{Float32},2}:\n",
       " Gray{Float32}(0.0150205)     …  Gray{Float32}(0.0095342)  \n",
       " Gray{Float32}(-0.000353095)     Gray{Float32}(0.00256769) \n",
       " Gray{Float32}(0.0111624)        Gray{Float32}(0.0200024)  \n",
       " Gray{Float32}(-0.0103494)       Gray{Float32}(0.0127407)  \n",
       " Gray{Float32}(0.00579856)       Gray{Float32}(0.0117925)  \n",
       " Gray{Float32}(-0.0160354)    …  Gray{Float32}(0.0280175)  \n",
       " Gray{Float32}(-0.0121117)       Gray{Float32}(0.00108888) \n",
       " Gray{Float32}(0.0254494)        Gray{Float32}(-0.00304037)\n",
       " Gray{Float32}(0.0184246)        Gray{Float32}(0.00672054) \n",
       " Gray{Float32}(0.0135947)        Gray{Float32}(0.00205906) \n",
       " Gray{Float32}(0.00403642)    …  Gray{Float32}(0.00718782) \n",
       " Gray{Float32}(-0.000664608)     Gray{Float32}(0.0190579)  \n",
       " Gray{Float32}(0.00148154)       Gray{Float32}(0.0190346)  \n",
       " ⋮                            ⋱  ⋮                         \n",
       " Gray{Float32}(0.00524544)       Gray{Float32}(-0.0277895) \n",
       " Gray{Float32}(0.0192283)     …  Gray{Float32}(0.00261766) \n",
       " Gray{Float32}(0.0126522)        Gray{Float32}(0.0275832)  \n",
       " Gray{Float32}(-0.0058023)       Gray{Float32}(0.027682)   \n",
       " Gray{Float32}(-0.0128325)       Gray{Float32}(0.00797125) \n",
       " Gray{Float32}(-0.00395247)      Gray{Float32}(-0.0216017) \n",
       " Gray{Float32}(0.00780504)    …  Gray{Float32}(-0.0135278) \n",
       " Gray{Float32}(0.00608584)       Gray{Float32}(-0.0137204) \n",
       " Gray{Float32}(0.00585259)       Gray{Float32}(0.0089281)  \n",
       " Gray{Float32}(-0.00349419)      Gray{Float32}(0.00821044) \n",
       " Gray{Float32}(0.019344)         Gray{Float32}(-0.0322906) \n",
       " Gray{Float32}(0.0187973)     …  Gray{Float32}(-0.00174969)"
      ]
     },
     "execution_count": 4,
     "metadata": {},
     "output_type": "execute_result"
    }
   ],
   "source": [
    "id = ids[27]\n",
    "@time img_raw = readcsv(joinpath(sampledir, id * \"-g.csv\"), Float32)\n",
    "img_gray = colorview(Gray, img_raw)"
   ]
  },
  {
   "cell_type": "code",
   "execution_count": 5,
   "metadata": {
    "nbpresent": {
     "id": "2514ab1e-1851-4df5-8090-f958090b55de"
    },
    "scrolled": true
   },
   "outputs": [
    {
     "data": {
      "image/png": "[encoded data removed]",
      "text/plain": [
       "151×151 ColorView{RGB}(::ImageCore.StackedView{Float32,3,Tuple{Array{Float32,2},Array{Float32,2},Array{Float32,2}}}) with element type ColorTypes.RGB{Float32}:\n",
       " RGB{Float32}(0.0150205,0.0150205,0.0150205)           …  RGB{Float32}(0.0095342,0.0095342,0.0095342)      \n",
       " RGB{Float32}(-0.000353095,-0.000353095,-0.000353095)     RGB{Float32}(0.00256769,0.00256769,0.00256769)   \n",
       " RGB{Float32}(0.0111624,0.0111624,0.0111624)              RGB{Float32}(0.0200024,0.0200024,0.0200024)      \n",
       " RGB{Float32}(-0.0103494,-0.0103494,-0.0103494)           RGB{Float32}(0.0127407,0.0127407,0.0127407)      \n",
       " RGB{Float32}(0.00579856,0.00579856,0.00579856)           RGB{Float32}(0.0117925,0.0117925,0.0117925)      \n",
       " RGB{Float32}(-0.0160354,-0.0160354,-0.0160354)        …  RGB{Float32}(0.0280175,0.0280175,0.0280175)      \n",
       " RGB{Float32}(-0.0121117,-0.0121117,-0.0121117)           RGB{Float32}(0.00108888,0.00108888,0.00108888)   \n",
       " RGB{Float32}(0.0254494,0.0254494,0.0254494)              RGB{Float32}(-0.00304037,-0.00304037,-0.00304037)\n",
       " RGB{Float32}(0.0184246,0.0184246,0.0184246)              RGB{Float32}(0.00672054,0.00672054,0.00672054)   \n",
       " RGB{Float32}(0.0135947,0.0135947,0.0135947)              RGB{Float32}(0.00205906,0.00205906,0.00205906)   \n",
       " RGB{Float32}(0.00403642,0.00403642,0.00403642)        …  RGB{Float32}(0.00718782,0.00718782,0.00718782)   \n",
       " RGB{Float32}(-0.000664608,-0.000664608,-0.000664608)     RGB{Float32}(0.0190579,0.0190579,0.0190579)      \n",
       " RGB{Float32}(0.00148154,0.00148154,0.00148154)           RGB{Float32}(0.0190346,0.0190346,0.0190346)      \n",
       " ⋮                                                     ⋱  ⋮                                                \n",
       " RGB{Float32}(0.00524544,0.00524544,0.00524544)           RGB{Float32}(-0.0277895,-0.0277895,-0.0277895)   \n",
       " RGB{Float32}(0.0192283,0.0192283,0.0192283)           …  RGB{Float32}(0.00261766,0.00261766,0.00261766)   \n",
       " RGB{Float32}(0.0126522,0.0126522,0.0126522)              RGB{Float32}(0.0275832,0.0275832,0.0275832)      \n",
       " RGB{Float32}(-0.0058023,-0.0058023,-0.0058023)           RGB{Float32}(0.027682,0.027682,0.027682)         \n",
       " RGB{Float32}(-0.0128325,-0.0128325,-0.0128325)           RGB{Float32}(0.00797125,0.00797125,0.00797125)   \n",
       " RGB{Float32}(-0.00395247,-0.00395247,-0.00395247)        RGB{Float32}(-0.0216017,-0.0216017,-0.0216017)   \n",
       " RGB{Float32}(0.00780504,0.00780504,0.00780504)        …  RGB{Float32}(-0.0135278,-0.0135278,-0.0135278)   \n",
       " RGB{Float32}(0.00608584,0.00608584,0.00608584)           RGB{Float32}(-0.0137204,-0.0137204,-0.0137204)   \n",
       " RGB{Float32}(0.00585259,0.00585259,0.00585259)           RGB{Float32}(0.0089281,0.0089281,0.0089281)      \n",
       " RGB{Float32}(-0.00349419,-0.00349419,-0.00349419)        RGB{Float32}(0.00821044,0.00821044,0.00821044)   \n",
       " RGB{Float32}(0.019344,0.019344,0.019344)                 RGB{Float32}(-0.0322906,-0.0322906,-0.0322906)   \n",
       " RGB{Float32}(0.0187973,0.0187973,0.0187973)           …  RGB{Float32}(-0.00174969,-0.00174969,-0.00174969)"
      ]
     },
     "execution_count": 5,
     "metadata": {},
     "output_type": "execute_result"
    }
   ],
   "source": [
    "img_peaks = copy(img_raw)\n",
    "cutoff = min(1, img_raw[fld.(size(img_raw), 2)...])\n",
    "img_peaks[img_peaks .> 1] = 0\n",
    "img = colorview(RGB, img_peaks,img_peaks,img_raw)"
   ]
  },
  {
   "cell_type": "code",
   "execution_count": 6,
   "metadata": {
    "nbpresent": {
     "id": "2435570d-4866-47ff-8eeb-6917d24541fe"
    }
   },
   "outputs": [
    {
     "data": {
      "text/plain": [
       "\"151×151 ColorView{RGB}(::ImageCore.StackedView{Float32,3,Tuple{Array{Float32,2},Array{Float32,2},Array{Float32,2}}}) with element type ColorTypes.RGB{Float32}\""
      ]
     },
     "execution_count": 6,
     "metadata": {},
     "output_type": "execute_result"
    }
   ],
   "source": [
    "summary(img)"
   ]
  },
  {
   "cell_type": "code",
   "execution_count": 7,
   "metadata": {
    "nbpresent": {
     "id": "52234635-88d4-4808-aec4-b7ff60373f40"
    }
   },
   "outputs": [
    {
     "data": {
      "image/png": "[encoded data removed]",
      "text/plain": [
       "151×151 ColorView{Gray}(::BitArray{2}) with element type ColorTypes.Gray{Bool}:\n",
       " Gray{Bool}(false)  Gray{Bool}(false)  …  Gray{Bool}(false)\n",
       " Gray{Bool}(false)  Gray{Bool}(false)     Gray{Bool}(false)\n",
       " Gray{Bool}(false)  Gray{Bool}(false)     Gray{Bool}(false)\n",
       " Gray{Bool}(false)  Gray{Bool}(false)     Gray{Bool}(false)\n",
       " Gray{Bool}(false)  Gray{Bool}(false)     Gray{Bool}(false)\n",
       " Gray{Bool}(false)  Gray{Bool}(false)  …  Gray{Bool}(false)\n",
       " Gray{Bool}(false)  Gray{Bool}(false)     Gray{Bool}(false)\n",
       " Gray{Bool}(false)  Gray{Bool}(false)     Gray{Bool}(false)\n",
       " Gray{Bool}(false)  Gray{Bool}(false)     Gray{Bool}(false)\n",
       " Gray{Bool}(false)  Gray{Bool}(false)     Gray{Bool}(false)\n",
       " Gray{Bool}(false)  Gray{Bool}(false)  …  Gray{Bool}(false)\n",
       " Gray{Bool}(false)  Gray{Bool}(false)     Gray{Bool}(false)\n",
       " Gray{Bool}(false)  Gray{Bool}(false)     Gray{Bool}(false)\n",
       " ⋮                                     ⋱  ⋮                \n",
       " Gray{Bool}(false)  Gray{Bool}(false)     Gray{Bool}(false)\n",
       " Gray{Bool}(false)  Gray{Bool}(false)  …  Gray{Bool}(false)\n",
       " Gray{Bool}(false)  Gray{Bool}(false)     Gray{Bool}(false)\n",
       " Gray{Bool}(false)  Gray{Bool}(false)     Gray{Bool}(false)\n",
       " Gray{Bool}(false)  Gray{Bool}(false)     Gray{Bool}(false)\n",
       " Gray{Bool}(false)  Gray{Bool}(false)     Gray{Bool}(false)\n",
       " Gray{Bool}(false)  Gray{Bool}(false)  …  Gray{Bool}(false)\n",
       " Gray{Bool}(false)  Gray{Bool}(false)     Gray{Bool}(false)\n",
       " Gray{Bool}(false)  Gray{Bool}(false)     Gray{Bool}(false)\n",
       " Gray{Bool}(false)  Gray{Bool}(false)     Gray{Bool}(false)\n",
       " Gray{Bool}(false)  Gray{Bool}(false)     Gray{Bool}(false)\n",
       " Gray{Bool}(false)  Gray{Bool}(false)  …  Gray{Bool}(false)"
      ]
     },
     "execution_count": 7,
     "metadata": {},
     "output_type": "execute_result"
    }
   ],
   "source": [
    "img_bin = falses(img_raw)\n",
    "img_smooth = imfilter(img_raw, Kernel.gaussian(2))\n",
    "bin_th = 0.05\n",
    "img_bin[img_smooth .> bin_th] = true\n",
    "colorview(Gray, img_bin)"
   ]
  },
  {
   "cell_type": "code",
   "execution_count": 8,
   "metadata": {
    "nbpresent": {
     "id": "78d05a7d-e6da-4940-ac0d-fe3cb8b8d4bc"
    }
   },
   "outputs": [
    {
     "data": {
      "text/plain": [
       "0.5"
      ]
     },
     "execution_count": 8,
     "metadata": {},
     "output_type": "execute_result"
    }
   ],
   "source": [
    "labs = label_components(img_bin);\n",
    "\n",
    "centre = fld.(size(labs), 2)\n",
    "labs_blob = zeros(img_raw)\n",
    "labs_ind = labs .== labs[centre...]\n",
    "labs_blob[labs_ind] = 0.5"
   ]
  },
  {
   "cell_type": "code",
   "execution_count": 9,
   "metadata": {
    "nbpresent": {
     "id": "c2239b0f-5201-4c91-87b5-ef7156b34e2d"
    }
   },
   "outputs": [
    {
     "data": {
      "image/png": "[encoded data removed]",
      "text/plain": [
       "151×151 ColorView{RGB}(::ImageCore.StackedView{Float32,3,Tuple{Array{Float32,2},Array{Float32,2},Array{Float32,2}}}) with element type ColorTypes.RGB{Float32}:\n",
       " RGB{Float32}(0.0,0.0150205,0.0150205)        …  RGB{Float32}(0.0,0.0095342,0.0095342)    \n",
       " RGB{Float32}(0.0,-0.000353095,-0.000353095)     RGB{Float32}(0.0,0.00256769,0.00256769)  \n",
       " RGB{Float32}(0.0,0.0111624,0.0111624)           RGB{Float32}(0.0,0.0200024,0.0200024)    \n",
       " RGB{Float32}(0.0,-0.0103494,-0.0103494)         RGB{Float32}(0.0,0.0127407,0.0127407)    \n",
       " RGB{Float32}(0.0,0.00579856,0.00579856)         RGB{Float32}(0.0,0.0117925,0.0117925)    \n",
       " RGB{Float32}(0.0,-0.0160354,-0.0160354)      …  RGB{Float32}(0.0,0.0280175,0.0280175)    \n",
       " RGB{Float32}(0.0,-0.0121117,-0.0121117)         RGB{Float32}(0.0,0.00108888,0.00108888)  \n",
       " RGB{Float32}(0.0,0.0254494,0.0254494)           RGB{Float32}(0.0,-0.00304037,-0.00304037)\n",
       " RGB{Float32}(0.0,0.0184246,0.0184246)           RGB{Float32}(0.0,0.00672054,0.00672054)  \n",
       " RGB{Float32}(0.0,0.0135947,0.0135947)           RGB{Float32}(0.0,0.00205906,0.00205906)  \n",
       " RGB{Float32}(0.0,0.00403642,0.00403642)      …  RGB{Float32}(0.0,0.00718782,0.00718782)  \n",
       " RGB{Float32}(0.0,-0.000664608,-0.000664608)     RGB{Float32}(0.0,0.0190579,0.0190579)    \n",
       " RGB{Float32}(0.0,0.00148154,0.00148154)         RGB{Float32}(0.0,0.0190346,0.0190346)    \n",
       " ⋮                                            ⋱  ⋮                                        \n",
       " RGB{Float32}(0.0,0.00524544,0.00524544)         RGB{Float32}(0.0,-0.0277895,-0.0277895)  \n",
       " RGB{Float32}(0.0,0.0192283,0.0192283)        …  RGB{Float32}(0.0,0.00261766,0.00261766)  \n",
       " RGB{Float32}(0.0,0.0126522,0.0126522)           RGB{Float32}(0.0,0.0275832,0.0275832)    \n",
       " RGB{Float32}(0.0,-0.0058023,-0.0058023)         RGB{Float32}(0.0,0.027682,0.027682)      \n",
       " RGB{Float32}(0.0,-0.0128325,-0.0128325)         RGB{Float32}(0.0,0.00797125,0.00797125)  \n",
       " RGB{Float32}(0.0,-0.00395247,-0.00395247)       RGB{Float32}(0.0,-0.0216017,-0.0216017)  \n",
       " RGB{Float32}(0.0,0.00780504,0.00780504)      …  RGB{Float32}(0.0,-0.0135278,-0.0135278)  \n",
       " RGB{Float32}(0.0,0.00608584,0.00608584)         RGB{Float32}(0.0,-0.0137204,-0.0137204)  \n",
       " RGB{Float32}(0.0,0.00585259,0.00585259)         RGB{Float32}(0.0,0.0089281,0.0089281)    \n",
       " RGB{Float32}(0.0,-0.00349419,-0.00349419)       RGB{Float32}(0.0,0.00821044,0.00821044)  \n",
       " RGB{Float32}(0.0,0.019344,0.019344)             RGB{Float32}(0.0,-0.0322906,-0.0322906)  \n",
       " RGB{Float32}(0.0,0.0187973,0.0187973)        …  RGB{Float32}(0.0,-0.00174969,-0.00174969)"
      ]
     },
     "execution_count": 9,
     "metadata": {},
     "output_type": "execute_result"
    }
   ],
   "source": [
    "img_labs = colorview(RGB, labs_blob,img_peaks,copy(img_raw))"
   ]
  },
  {
   "cell_type": "code",
   "execution_count": 10,
   "metadata": {
    "nbpresent": {
     "id": "e33ea53f-8d9c-4703-bb3a-8d271ab16e3a"
    }
   },
   "outputs": [
    {
     "data": {
      "text/plain": [
       "(24,24)"
      ]
     },
     "execution_count": 10,
     "metadata": {},
     "output_type": "execute_result"
    }
   ],
   "source": [
    "# find box around center that contains the galaxy based on the center label. \n",
    "#It's robust by using the galaxy symmetry so we take minimum of opposite directions\n",
    "@everywhere function findbox(inds)\n",
    "    ci, cj = fld.(size(inds), 2)\n",
    "    north = east = south = west = 0\n",
    "    for j = 1:size(inds, 2)\n",
    "        for i = 1:size(inds, 1)\n",
    "            if inds[i,j]\n",
    "                if i < ci #north\n",
    "                    ci - i > north && (north = ci - i)\n",
    "                else #south\n",
    "                    i - ci > south && (south = i - ci)\n",
    "                end\n",
    "                if j < cj\n",
    "                    cj - j > west  && (west  = cj - j)\n",
    "                else\n",
    "                    j - cj > east  && (east  = j - cj)\n",
    "                end\n",
    "            end\n",
    "        end\n",
    "    end\n",
    "    min_width  = min(east, west) \n",
    "    min_heigth = min(north, south)\n",
    "    return min_width, min_heigth\n",
    "end\n",
    "findbox(labs_ind)   "
   ]
  },
  {
   "cell_type": "code",
   "execution_count": 16,
   "metadata": {
    "nbpresent": {
     "id": "ee161e6e-79cb-4969-bb06-e1d989a8dcdb"
    }
   },
   "outputs": [
    {
     "data": {
      "text/plain": [
       "BenchmarkTools.Trial: \n",
       "  memory estimate:  0 bytes\n",
       "  allocs estimate:  0\n",
       "  --------------\n",
       "  minimum time:     291.487 μs (0.00% GC)\n",
       "  median time:      321.457 μs (0.00% GC)\n",
       "  mean time:        339.062 μs (0.00% GC)\n",
       "  maximum time:     1.559 ms (0.00% GC)\n",
       "  --------------\n",
       "  samples:          10000\n",
       "  evals/sample:     1"
      ]
     },
     "execution_count": 16,
     "metadata": {},
     "output_type": "execute_result"
    }
   ],
   "source": [
    "@benchmark findbox($labs_ind) #it's fast, thanks Julia!"
   ]
  },
  {
   "cell_type": "code",
   "execution_count": 11,
   "metadata": {
    "nbpresent": {
     "id": "b587653b-d83e-4398-8313-f2578a9516dd"
    }
   },
   "outputs": [
    {
     "data": {
      "text/plain": [
       "drawcbox! (generic function with 1 method)"
      ]
     },
     "execution_count": 11,
     "metadata": {},
     "output_type": "execute_result"
    }
   ],
   "source": [
    "# draw the box on the image\n",
    "function drawcbox!(img, w, h) #width, height\n",
    "    ci, cj = fld.(size(img), 2)\n",
    "    T = eltype(img)\n",
    "    # left ,right\n",
    "    for i = ci-h:ci+h\n",
    "        img[i, cj-w] = one(T)\n",
    "        img[i, cj+w] = one(T)\n",
    "    end\n",
    "    # up,down\n",
    "    for j = cj-w:cj+w\n",
    "        img[ci+h, j] = one(T)\n",
    "        img[ci-h, j] = one(T)\n",
    "    end\n",
    "    img\n",
    "end"
   ]
  },
  {
   "cell_type": "code",
   "execution_count": 12,
   "metadata": {
    "nbpresent": {
     "id": "be37055c-e622-48a1-8904-e4752eac202b"
    }
   },
   "outputs": [
    {
     "data": {
      "image/png": "[encoded data removed]",
      "text/plain": [
       "151×151 ColorView{RGB}(::ImageCore.StackedView{Float32,3,Tuple{Array{Float32,2},Array{Float32,2},Array{Float32,2}}}) with element type ColorTypes.RGB{Float32}:\n",
       " RGB{Float32}(0.0,0.0150205,0.0150205)        …  RGB{Float32}(0.0,0.0095342,0.0095342)    \n",
       " RGB{Float32}(0.0,-0.000353095,-0.000353095)     RGB{Float32}(0.0,0.00256769,0.00256769)  \n",
       " RGB{Float32}(0.0,0.0111624,0.0111624)           RGB{Float32}(0.0,0.0200024,0.0200024)    \n",
       " RGB{Float32}(0.0,-0.0103494,-0.0103494)         RGB{Float32}(0.0,0.0127407,0.0127407)    \n",
       " RGB{Float32}(0.0,0.00579856,0.00579856)         RGB{Float32}(0.0,0.0117925,0.0117925)    \n",
       " RGB{Float32}(0.0,-0.0160354,-0.0160354)      …  RGB{Float32}(0.0,0.0280175,0.0280175)    \n",
       " RGB{Float32}(0.0,-0.0121117,-0.0121117)         RGB{Float32}(0.0,0.00108888,0.00108888)  \n",
       " RGB{Float32}(0.0,0.0254494,0.0254494)           RGB{Float32}(0.0,-0.00304037,-0.00304037)\n",
       " RGB{Float32}(0.0,0.0184246,0.0184246)           RGB{Float32}(0.0,0.00672054,0.00672054)  \n",
       " RGB{Float32}(0.0,0.0135947,0.0135947)           RGB{Float32}(0.0,0.00205906,0.00205906)  \n",
       " RGB{Float32}(0.0,0.00403642,0.00403642)      …  RGB{Float32}(0.0,0.00718782,0.00718782)  \n",
       " RGB{Float32}(0.0,-0.000664608,-0.000664608)     RGB{Float32}(0.0,0.0190579,0.0190579)    \n",
       " RGB{Float32}(0.0,0.00148154,0.00148154)         RGB{Float32}(0.0,0.0190346,0.0190346)    \n",
       " ⋮                                            ⋱  ⋮                                        \n",
       " RGB{Float32}(0.0,0.00524544,0.00524544)         RGB{Float32}(0.0,-0.0277895,-0.0277895)  \n",
       " RGB{Float32}(0.0,0.0192283,0.0192283)        …  RGB{Float32}(0.0,0.00261766,0.00261766)  \n",
       " RGB{Float32}(0.0,0.0126522,0.0126522)           RGB{Float32}(0.0,0.0275832,0.0275832)    \n",
       " RGB{Float32}(0.0,-0.0058023,-0.0058023)         RGB{Float32}(0.0,0.027682,0.027682)      \n",
       " RGB{Float32}(0.0,-0.0128325,-0.0128325)         RGB{Float32}(0.0,0.00797125,0.00797125)  \n",
       " RGB{Float32}(0.0,-0.00395247,-0.00395247)       RGB{Float32}(0.0,-0.0216017,-0.0216017)  \n",
       " RGB{Float32}(0.0,0.00780504,0.00780504)      …  RGB{Float32}(0.0,-0.0135278,-0.0135278)  \n",
       " RGB{Float32}(0.0,0.00608584,0.00608584)         RGB{Float32}(0.0,-0.0137204,-0.0137204)  \n",
       " RGB{Float32}(0.0,0.00585259,0.00585259)         RGB{Float32}(0.0,0.0089281,0.0089281)    \n",
       " RGB{Float32}(0.0,-0.00349419,-0.00349419)       RGB{Float32}(0.0,0.00821044,0.00821044)  \n",
       " RGB{Float32}(0.0,0.019344,0.019344)             RGB{Float32}(0.0,-0.0322906,-0.0322906)  \n",
       " RGB{Float32}(0.0,0.0187973,0.0187973)        …  RGB{Float32}(0.0,-0.00174969,-0.00174969)"
      ]
     },
     "execution_count": 12,
     "metadata": {},
     "output_type": "execute_result"
    }
   ],
   "source": [
    "drawcbox!(img_labs, findbox(labs_ind)...)"
   ]
  },
  {
   "cell_type": "markdown",
   "metadata": {
    "nbpresent": {
     "id": "7dfd47eb-f11b-48a4-8ee3-62e3eaa46139"
    }
   },
   "source": [
    "# interactively look at preprocessing result of sample images"
   ]
  },
  {
   "cell_type": "code",
   "execution_count": 18,
   "metadata": {
    "nbpresent": {
     "id": "f8d5a8cf-c64b-4895-a238-b088f496f6a8"
    }
   },
   "outputs": [
    {
     "name": "stderr",
     "output_type": "stream",
     "text": [
      "WARNING: Method definition idplot(Any) in module Main at In[17]:2 overwritten at In[18]:2.\n",
      "WARNING: Method definition idplot(Any, Any) in module Main at In[17]:2 overwritten at In[18]:2.\n"
     ]
    },
    {
     "data": {
      "text/plain": [
       "idplot (generic function with 2 methods)"
      ]
     },
     "execution_count": 18,
     "metadata": {},
     "output_type": "execute_result"
    }
   ],
   "source": [
    "function idplot(i, binth=0.05)\n",
    "    sampledir = \"/Users/ken/Coding/astrohack/Astrohack/Sample_Data/SAMPLE/\"\n",
    "    img_raw = readcsv(joinpath(sampledir, ids[i]*\"-g.csv\"))#, Float32)\n",
    "    ci, cj = fld.(size(img_raw), 2)\n",
    "    \n",
    "    img_peaks = copy(img_raw)\n",
    "    cutoff = min(1, img_raw[ci, cj])\n",
    "    img_peaks[img_peaks .> cutoff] = 0\n",
    "    \n",
    "    img_bin = falses(img_raw)\n",
    "    img_smooth = imfilter(img_raw, Kernel.gaussian(2))\n",
    "    img_bin[img_smooth .> binth] = true\n",
    "    labels = label_components(img_bin)\n",
    "    img_cblob = zeros(img_raw)\n",
    "    labs_ind = labels .== labels[ci, cj]\n",
    "    img_cblob[labs_ind] = 0.5\n",
    "    \n",
    "    img_labs = colorview(RGB, img_cblob, img_peaks, img_raw)\n",
    "    \n",
    "    #img_circles = copy(img_labs)\n",
    "    blobs = blob_LoG(img_raw, 1:4) #TODO issue for float32?\n",
    "    blobth = 0.1\n",
    "    bigblobs = [blob for blob in blobs if blob.amplitude > blobth]\n",
    "    for blob in bigblobs\n",
    "        circle = CirclePointRadius(blob.location, sqrt(2)*blob.σ)\n",
    "        draw!(img_labs, circle, RGB(one(eltype(img_raw)),0,0))\n",
    "    end\n",
    "                \n",
    "    drawcbox!(img_labs, findbox(labs_ind)...)\n",
    "end"
   ]
  },
  {
   "cell_type": "code",
   "execution_count": 20,
   "metadata": {
    "nbpresent": {
     "id": "43c71227-5237-4d23-93d1-d0c5e63dfd6f"
    }
   },
   "outputs": [
    {
     "data": {
      "text/html": [],
      "text/plain": [
       "Interact.Options{:SelectionSlider,Int64}(input-7: Signal{Int64}(27, nactions=1),\"i\",27,\"27\",Interact.OptionDict(DataStructures.OrderedDict(\"1\"=>1,\"2\"=>2,\"3\"=>3,\"4\"=>4,\"5\"=>5,\"6\"=>6,\"7\"=>7,\"8\"=>8,\"9\"=>9,\"10\"=>10…),Dict(2=>\"2\",11=>\"11\",39=>\"39\",46=>\"46\",25=>\"25\",42=>\"42\",29=>\"29\",8=>\"8\",20=>\"20\",14=>\"14\"…)),Any[],Any[],true,\"horizontal\")"
      ]
     },
     "metadata": {},
     "output_type": "display_data"
    },
    {
     "data": {
      "text/html": [],
      "text/plain": [
       "Interact.Options{:SelectionSlider,Float64}(input-8: Signal{Float64}(0.045, nactions=1),\"binth\",0.045,\"0.045\",Interact.OptionDict(DataStructures.OrderedDict(\"0.01\"=>0.01,\"0.015\"=>0.015,\"0.02\"=>0.02,\"0.025\"=>0.025,\"0.03\"=>0.03,\"0.035\"=>0.035,\"0.04\"=>0.04,\"0.045\"=>0.045,\"0.05\"=>0.05,\"0.055\"=>0.055…),Dict(0.055=>\"0.055\",0.015=>\"0.015\",0.04=>\"0.04\",0.08=>\"0.08\",0.045=>\"0.045\",0.01=>\"0.01\",0.07=>\"0.07\",0.06=>\"0.06\",0.05=>\"0.05\",0.075=>\"0.075\"…)),Any[],Any[],true,\"horizontal\")"
      ]
     },
     "metadata": {},
     "output_type": "display_data"
    },
    {
     "data": {
      "image/png": "[encoded data removed]",
      "text/plain": [
       "151×151 ColorView{RGB}(::ImageCore.StackedView{Float64,3,Tuple{Array{Float64,2},Array{Float64,2},Array{Float64,2}}}) with element type ColorTypes.RGB{Float64}:\n",
       " RGB{Float64}(0.0,0.0150205,0.0150205)        …  RGB{Float64}(0.0,0.0095342,0.0095342)    \n",
       " RGB{Float64}(0.0,-0.000353095,-0.000353095)     RGB{Float64}(0.0,0.00256769,0.00256769)  \n",
       " RGB{Float64}(0.0,0.0111624,0.0111624)           RGB{Float64}(0.0,0.0200024,0.0200024)    \n",
       " RGB{Float64}(0.0,-0.0103494,-0.0103494)         RGB{Float64}(0.0,0.0127407,0.0127407)    \n",
       " RGB{Float64}(0.0,0.00579856,0.00579856)         RGB{Float64}(0.0,0.0117925,0.0117925)    \n",
       " RGB{Float64}(0.0,-0.0160354,-0.0160354)      …  RGB{Float64}(0.0,0.0280175,0.0280175)    \n",
       " RGB{Float64}(0.0,-0.0121117,-0.0121117)         RGB{Float64}(0.0,0.00108888,0.00108888)  \n",
       " RGB{Float64}(0.0,0.0254494,0.0254494)           RGB{Float64}(0.0,-0.00304037,-0.00304037)\n",
       " RGB{Float64}(0.0,0.0184246,0.0184246)           RGB{Float64}(0.0,0.00672054,0.00672054)  \n",
       " RGB{Float64}(0.0,0.0135947,0.0135947)           RGB{Float64}(0.0,0.00205906,0.00205906)  \n",
       " RGB{Float64}(0.0,0.00403642,0.00403642)      …  RGB{Float64}(0.0,0.00718782,0.00718782)  \n",
       " RGB{Float64}(0.0,-0.000664608,-0.000664608)     RGB{Float64}(0.0,0.0190579,0.0190579)    \n",
       " RGB{Float64}(0.0,0.00148154,0.00148154)         RGB{Float64}(0.0,0.0190346,0.0190346)    \n",
       " ⋮                                            ⋱  ⋮                                        \n",
       " RGB{Float64}(0.0,0.00524544,0.00524544)         RGB{Float64}(0.0,-0.0277895,-0.0277895)  \n",
       " RGB{Float64}(0.0,0.0192283,0.0192283)        …  RGB{Float64}(0.0,0.00261766,0.00261766)  \n",
       " RGB{Float64}(0.0,0.0126522,0.0126522)           RGB{Float64}(0.0,0.0275832,0.0275832)    \n",
       " RGB{Float64}(0.0,-0.0058023,-0.0058023)         RGB{Float64}(0.0,0.027682,0.027682)      \n",
       " RGB{Float64}(0.0,-0.0128325,-0.0128325)         RGB{Float64}(0.0,0.00797125,0.00797125)  \n",
       " RGB{Float64}(0.0,-0.00395247,-0.00395247)       RGB{Float64}(0.0,-0.0216017,-0.0216017)  \n",
       " RGB{Float64}(0.0,0.00780504,0.00780504)      …  RGB{Float64}(0.0,-0.0135278,-0.0135278)  \n",
       " RGB{Float64}(0.0,0.00608584,0.00608584)         RGB{Float64}(0.0,-0.0137204,-0.0137204)  \n",
       " RGB{Float64}(0.0,0.00585259,0.00585259)         RGB{Float64}(0.0,0.0089281,0.0089281)    \n",
       " RGB{Float64}(0.0,-0.00349419,-0.00349419)       RGB{Float64}(0.0,0.00821044,0.00821044)  \n",
       " RGB{Float64}(0.0,0.019344,0.019344)             RGB{Float64}(0.0,-0.0322906,-0.0322906)  \n",
       " RGB{Float64}(0.0,0.0187973,0.0187973)        …  RGB{Float64}(0.0,-0.00174969,-0.00174969)"
      ]
     },
     "execution_count": 20,
     "metadata": {
      "comm_id": "57b2624e-3d87-424f-9f6f-809167edff01",
      "reactive": true
     },
     "output_type": "execute_result"
    }
   ],
   "source": [
    "@manipulate for i = 1:length(ids), \n",
    "    binth = 0.01:0.005:0.08\n",
    "        idplot(i, binth)\n",
    "end"
   ]
  },
  {
   "cell_type": "markdown",
   "metadata": {
    "nbpresent": {
     "id": "782a1464-d0a5-4e55-946b-4d0290b2a914"
    }
   },
   "source": [
    "# quick and dirty approach\n",
    "(= only entropy and symmetrie)\n",
    "## Preprocess\n",
    "- smooth image and threshold to create binary image and use `label_components` to find central galaxy. \n",
    "- crop central galaxy by using symmetry: minimum of deviations around center for each axis\n",
    "- set non-label components in crop to zero\n",
    "## Features\n",
    "- distances (given)\n",
    "- lower percentiles for full image for noise level (eg lower 1 and 5 percentile)\n",
    "- entropy of crop,\n",
    "- add sum of values and number of galaxy (nonzero) pixels\n",
    "- some symmetry measures from eigenvalues\n",
    "\n",
    "Then run good ol' XGBoost on features\n",
    "\n",
    "## further ideas\n",
    "- entropy after fitting and removing (two consecutive?) gaussian fits\n",
    "- use `imROF` for denoising\n",
    "- cut off peaks higher than center value? \n",
    "- remove remaining galaxies/stars in the crop instead of crude non-labels to zero by fitting gaussian"
   ]
  },
  {
   "cell_type": "code",
   "execution_count": 184,
   "metadata": {
    "nbpresent": {
     "id": "741671d0-1d3f-49ca-8fa9-c172ef1176dd"
    }
   },
   "outputs": [
    {
     "data": {
      "image/png": "[encoded data removed]",
      "text/plain": [
       "49×49 Array{Gray{Float32},2}:\n",
       " Gray{Float32}(0.00675163)   …  Gray{Float32}(0.0479072)  \n",
       " Gray{Float32}(-0.00338378)     Gray{Float32}(0.0491828)  \n",
       " Gray{Float32}(0.0176451)       Gray{Float32}(0.0266497)  \n",
       " Gray{Float32}(0.0321021)       Gray{Float32}(0.0329973)  \n",
       " Gray{Float32}(0.0211408)       Gray{Float32}(0.0299969)  \n",
       " Gray{Float32}(0.0305206)    …  Gray{Float32}(0.0172947)  \n",
       " Gray{Float32}(0.0176071)       Gray{Float32}(0.0347831)  \n",
       " Gray{Float32}(0.0325029)       Gray{Float32}(0.0245)     \n",
       " Gray{Float32}(0.0324689)       Gray{Float32}(0.0230031)  \n",
       " Gray{Float32}(0.0239669)       Gray{Float32}(0.049489)   \n",
       " Gray{Float32}(0.0414707)    …  Gray{Float32}(0.0279436)  \n",
       " Gray{Float32}(0.0269767)       Gray{Float32}(0.0605018)  \n",
       " Gray{Float32}(0.0266628)       Gray{Float32}(0.0560693)  \n",
       " ⋮                           ⋱                            \n",
       " Gray{Float32}(0.0451207)       Gray{Float32}(0.0328975)  \n",
       " Gray{Float32}(0.0261321)       Gray{Float32}(0.0661133)  \n",
       " Gray{Float32}(0.0503749)       Gray{Float32}(0.0295547)  \n",
       " Gray{Float32}(0.0425482)    …  Gray{Float32}(-0.00443279)\n",
       " Gray{Float32}(0.0307534)       Gray{Float32}(0.011413)   \n",
       " Gray{Float32}(0.0500444)       Gray{Float32}(0.0207767)  \n",
       " Gray{Float32}(0.0364699)       Gray{Float32}(0.0156666)  \n",
       " Gray{Float32}(0.0059102)       Gray{Float32}(0.0188135)  \n",
       " Gray{Float32}(0.0194895)    …  Gray{Float32}(0.0360846)  \n",
       " Gray{Float32}(0.0381789)       Gray{Float32}(0.0272379)  \n",
       " Gray{Float32}(0.0203887)       Gray{Float32}(0.0356493)  \n",
       " Gray{Float32}(0.0205004)       Gray{Float32}(0.0218199)  "
      ]
     },
     "execution_count": 184,
     "metadata": {},
     "output_type": "execute_result"
    }
   ],
   "source": [
    "ci, cj = fld.(size(img_raw), 2)\n",
    "BOXMIN = 10\n",
    "cwidth, cheight = max(findbox(labs_ind), (BOXMIN,BOXMIN))\n",
    "\n",
    "img_crop = img_raw[ci-cheight:ci+cheight, cj-cwidth:cj+cwidth]\n",
    "colorview(Gray, img_crop)"
   ]
  },
  {
   "cell_type": "code",
   "execution_count": 32,
   "metadata": {
    "nbpresent": {
     "id": "9ebc61c2-3b69-4ddb-8acc-fdbb1bb716bc"
    }
   },
   "outputs": [
    {
     "data": {
      "image/png": "[encoded data removed]",
      "text/plain": [
       "49×49 Array{Gray{Float32},2}:\n",
       " Gray{Float32}(0.00675163)   …  Gray{Float32}(0.0479072)  \n",
       " Gray{Float32}(-0.00338378)     Gray{Float32}(0.0491828)  \n",
       " Gray{Float32}(0.0176451)       Gray{Float32}(0.0266497)  \n",
       " Gray{Float32}(0.0321021)       Gray{Float32}(0.0329973)  \n",
       " Gray{Float32}(0.0211408)       Gray{Float32}(0.0299969)  \n",
       " Gray{Float32}(0.0305206)    …  Gray{Float32}(0.0172947)  \n",
       " Gray{Float32}(0.0176071)       Gray{Float32}(0.0347831)  \n",
       " Gray{Float32}(0.0325029)       Gray{Float32}(0.0245)     \n",
       " Gray{Float32}(0.0324689)       Gray{Float32}(0.0230031)  \n",
       " Gray{Float32}(0.0239669)       Gray{Float32}(0.049489)   \n",
       " Gray{Float32}(0.0414707)    …  Gray{Float32}(0.0279436)  \n",
       " Gray{Float32}(0.0269767)       Gray{Float32}(0.0605018)  \n",
       " Gray{Float32}(0.0266628)       Gray{Float32}(0.0560693)  \n",
       " ⋮                           ⋱                            \n",
       " Gray{Float32}(0.0451207)       Gray{Float32}(0.0328975)  \n",
       " Gray{Float32}(0.0261321)       Gray{Float32}(0.0661133)  \n",
       " Gray{Float32}(0.0503749)       Gray{Float32}(0.0295547)  \n",
       " Gray{Float32}(0.0425482)    …  Gray{Float32}(-0.00443279)\n",
       " Gray{Float32}(0.0307534)       Gray{Float32}(0.011413)   \n",
       " Gray{Float32}(0.0500444)       Gray{Float32}(0.0207767)  \n",
       " Gray{Float32}(0.0364699)       Gray{Float32}(0.0156666)  \n",
       " Gray{Float32}(0.0059102)       Gray{Float32}(0.0188135)  \n",
       " Gray{Float32}(0.0194895)    …  Gray{Float32}(0.0360846)  \n",
       " Gray{Float32}(0.0381789)       Gray{Float32}(0.0272379)  \n",
       " Gray{Float32}(0.0203887)       Gray{Float32}(0.0356493)  \n",
       " Gray{Float32}(0.0205004)       Gray{Float32}(0.0218199)  "
      ]
     },
     "execution_count": 32,
     "metadata": {},
     "output_type": "execute_result"
    }
   ],
   "source": [
    "img_onlycblob = copy(img_raw)\n",
    "img_onlycblob[!labs_ind] = 0\n",
    "boxsize = max(cwidth, cheight)\n",
    "img_box = img_raw[ci-boxsize:ci+boxsize, cj-boxsize:cj+boxsize]\n",
    "colorview(Gray, img_box)"
   ]
  },
  {
   "cell_type": "code",
   "execution_count": 37,
   "metadata": {
    "nbpresent": {
     "id": "822d33d7-569f-4308-8a8f-d802d9decb67"
    }
   },
   "outputs": [
    {
     "name": "stdout",
     "output_type": "stream",
     "text": [
      "  0.002158 seconds (738 allocations: 61.313 KB)\n"
     ]
    },
    {
     "data": {
      "text/plain": [
       "10-element Array{Float32,1}:\n",
       " 645.704    \n",
       "  17.6002   \n",
       "   0.942475 \n",
       "   0.887299 \n",
       "   0.0973208\n",
       "   0.093082 \n",
       "   0.0130057\n",
       "   0.0130057\n",
       "   0.0113171\n",
       "   0.0113171"
      ]
     },
     "execution_count": 37,
     "metadata": {},
     "output_type": "execute_result"
    }
   ],
   "source": [
    "@time reseigs = eigs(img_box, nev=10)\n",
    "norm.(reseigs[1]).^2"
   ]
  },
  {
   "cell_type": "code",
   "execution_count": 36,
   "metadata": {
    "nbpresent": {
     "id": "c0ec3dcb-c406-4f96-809b-5bd41c4ec8c8"
    }
   },
   "outputs": [
    {
     "name": "stdout",
     "output_type": "stream",
     "text": [
      "  0.001327 seconds (286 allocations: 31.688 KB)\n"
     ]
    },
    {
     "data": {
      "text/plain": [
       "10-element Array{Float32,1}:\n",
       " 647.59     \n",
       "  17.7356   \n",
       "   1.0503   \n",
       "   0.901244 \n",
       "   0.144213 \n",
       "   0.129747 \n",
       "   0.0570758\n",
       "   0.0509714\n",
       "   0.0372561\n",
       "   0.0361984"
      ]
     },
     "execution_count": 36,
     "metadata": {},
     "output_type": "execute_result"
    }
   ],
   "source": [
    "@time reseigs = eigs(img_crop'*img_crop, nev=10)\n",
    "norm.(reseigs[1])"
   ]
  },
  {
   "cell_type": "code",
   "execution_count": 165,
   "metadata": {
    "nbpresent": {
     "id": "1ef4950a-1bcf-468a-8d48-db87b8999db4"
    }
   },
   "outputs": [
    {
     "data": {
      "text/plain": [
       "4.054558771384226"
      ]
     },
     "execution_count": 165,
     "metadata": {},
     "output_type": "execute_result"
    }
   ],
   "source": [
    "entropy(img_crop)"
   ]
  },
  {
   "cell_type": "code",
   "execution_count": 183,
   "metadata": {
    "nbpresent": {
     "id": "d5301cb9-db2e-4f07-a37d-65b2fabd222f"
    }
   },
   "outputs": [
    {
     "data": {
      "text/plain": [
       "0.5881191265860775"
      ]
     },
     "execution_count": 183,
     "metadata": {},
     "output_type": "execute_result"
    }
   ],
   "source": [
    "noise = img_crop - imfilter(img_crop, Kernel.gaussian(1))\n",
    "\n",
    "maximum(noise)"
   ]
  },
  {
   "cell_type": "code",
   "execution_count": 175,
   "metadata": {
    "nbpresent": {
     "id": "32f6dad9-757e-4359-87f0-1bddfe41b769"
    }
   },
   "outputs": [
    {
     "data": {
      "text/plain": [
       "2.7846815517236028"
      ]
     },
     "execution_count": 175,
     "metadata": {},
     "output_type": "execute_result"
    }
   ],
   "source": [
    "entropy(img_crop - imfilter(img_crop, Kernel.gaussian(2)))"
   ]
  },
  {
   "cell_type": "markdown",
   "metadata": {
    "nbpresent": {
     "id": "cf958059-bd99-49c6-a414-047a5d4268e1"
    }
   },
   "source": [
    "# Process function"
   ]
  },
  {
   "cell_type": "code",
   "execution_count": 5,
   "metadata": {
    "collapsed": true,
    "nbpresent": {
     "id": "ff2295c0-cdea-4d6e-9443-beccc08d264a"
    },
    "scrolled": true
   },
   "outputs": [],
   "source": [
    "using StatsBase"
   ]
  },
  {
   "cell_type": "code",
   "execution_count": 1,
   "metadata": {
    "collapsed": true,
    "nbpresent": {
     "id": "730c237d-91a3-4b08-a401-0ee09f50016b"
    }
   },
   "outputs": [],
   "source": [
    "addprocs();"
   ]
  },
  {
   "cell_type": "code",
   "execution_count": 16,
   "metadata": {
    "collapsed": true,
    "nbpresent": {
     "id": "d0f0dbb4-1d4f-4d2a-8168-3ac00185b8ba"
    }
   },
   "outputs": [],
   "source": [
    "@everywhere using Images"
   ]
  },
  {
   "cell_type": "code",
   "execution_count": 6,
   "metadata": {
    "collapsed": true,
    "nbpresent": {
     "id": "0797a4ec-37fc-40f8-9d46-90d7fb8acd0c"
    }
   },
   "outputs": [],
   "source": [
    "traindir = \"/Users/ken/Coding/astrohack/Train/\"\n",
    "trainlist = readdir(traindir);"
   ]
  },
  {
   "cell_type": "code",
   "execution_count": 41,
   "metadata": {
    "collapsed": true,
    "nbpresent": {
     "id": "e4cc6805-c8c9-4e15-9334-3a15ac5a21e3"
    }
   },
   "outputs": [],
   "source": [
    "# remove i-pics once\n",
    "# i_files = filter(x->x[end-4]=='i', trainlist)\n",
    "# cd(traindir)\n",
    "# for file in i_files\n",
    "#     rm(file)\n",
    "# end"
   ]
  },
  {
   "cell_type": "code",
   "execution_count": 49,
   "metadata": {
    "collapsed": true,
    "nbpresent": {
     "id": "fe834357-5128-4be0-92a5-49847be1d4bd"
    }
   },
   "outputs": [],
   "source": [
    "using DataFrames"
   ]
  },
  {
   "cell_type": "code",
   "execution_count": 196,
   "metadata": {
    "nbpresent": {
     "id": "32e6c9bb-39d5-449a-a3d9-321f6b4ec3e0"
    },
    "scrolled": true
   },
   "outputs": [
    {
     "data": {
      "text/html": [
       "<table class=\"data-frame\"><thead><tr><th></th><th>SDSS_ID</th><th>logMstar</th><th>err_logMstar</th><th>Distance</th></tr></thead><tbody><tr><th>1</th><td>1237645879578460255</td><td>11.100999999999999</td><td>0.028999999999999998</td><td>518.0174523561253</td></tr><tr><th>2</th><td>1237645941824356443</td><td>10.539000000000001</td><td>0.032</td><td>172.10307774074076</td></tr><tr><th>3</th><td>1237645943974396134</td><td>11.318</td><td>0.015</td><td>654.2479282849002</td></tr><tr><th>4</th><td>1237645943975837722</td><td>10.862</td><td>0.026000000000000002</td><td>285.27259536182333</td></tr><tr><th>5</th><td>1237645943978328289</td><td>9.485</td><td>0.042</td><td>165.69725598860398</td></tr><tr><th>6</th><td>1237645943978393694</td><td>10.755999999999998</td><td>0.028999999999999998</td><td>173.81129687464386</td></tr><tr><th>7</th><td>1237645943978983579</td><td>10.168</td><td>0.024</td><td>207.54862476923074</td></tr><tr><th>8</th><td>1237645943978983683</td><td>11.792</td><td>0.017</td><td>794.3218972649573</td></tr><tr><th>9</th><td>1237645943979114622</td><td>10.932</td><td>0.044000000000000004</td><td>168.25958468945865</td></tr><tr><th>10</th><td>1237645943979507954</td><td>10.82</td><td>0.012</td><td>158.43732466951565</td></tr><tr><th>11</th><td>1237645943979638945</td><td>10.09</td><td>0.04</td><td>163.56198207122506</td></tr><tr><th>12</th><td>1237646796526715482</td><td>10.455</td><td>0.033</td><td>222.49554219088319</td></tr><tr><th>13</th><td>1237646797600522764</td><td>11.238</td><td>0.013999999999999999</td><td>390.32807209686604</td></tr><tr><th>14</th><td>1237648672921813985</td><td>9.585</td><td>0.057999999999999996</td><td>187.90410472934474</td></tr><tr><th>15</th><td>1237648672922337955</td><td>10.74</td><td>0.031</td><td>196.0181456153846</td></tr><tr><th>16</th><td>1237648673458684355</td><td>10.677999999999999</td><td>0.028999999999999998</td><td>215.66266565527064</td></tr><tr><th>17</th><td>1237648673458881081</td><td>10.315</td><td>0.032</td><td>253.67054138461535</td></tr><tr><th>18</th><td>1237648673459077169</td><td>11.09</td><td>0.011000000000000001</td><td>252.38937703418802</td></tr><tr><th>19</th><td>1237648673459274344</td><td>11.027999999999999</td><td>0.022000000000000002</td><td>400.5773869002848</td></tr><tr><th>20</th><td>1237648673459339331</td><td>11.205</td><td>0.027999999999999997</td><td>399.72327733333333</td></tr><tr><th>21</th><td>1237648673459667002</td><td>9.934</td><td>0.043</td><td>190.03937864672363</td></tr><tr><th>22</th><td>1237648673459667234</td><td>10.974</td><td>0.024</td><td>197.29930996581194</td></tr><tr><th>23</th><td>1237648673460585255</td><td>10.957</td><td>0.016</td><td>299.79245799999995</td></tr><tr><th>24</th><td>1237648673971437623</td><td>10.227</td><td>0.015</td><td>53.38184793447294</td></tr><tr><th>25</th><td>1237648673995162093</td><td>10.449000000000002</td><td>0.032</td><td>131.5328733105413</td></tr><tr><th>26</th><td>1237648673995686549</td><td>11.024000000000001</td><td>0.019</td><td>338.22738851282054</td></tr><tr><th>27</th><td>1237648673995948107</td><td>10.299000000000001</td><td>0.045</td><td>116.58595588888888</td></tr><tr><th>28</th><td>1237648673996997574</td><td>10.603</td><td>0.048</td><td>252.8164318176638</td></tr><tr><th>29</th><td>1237648673997127724</td><td>10.638</td><td>0.026000000000000002</td><td>187.90410472934474</td></tr><tr><th>30</th><td>1237648674510995594</td><td>11.522</td><td>0.013999999999999999</td><td>289.5431431965812</td></tr><tr><th>&vellip;</th><td>&vellip;</td><td>&vellip;</td><td>&vellip;</td><td>&vellip;</td></tr></tbody></table>"
      ],
      "text/plain": [
       "76265×4 DataFrames.DataFrame\n",
       "│ Row   │ SDSS_ID             │ logMstar │ err_logMstar │ Distance │\n",
       "├───────┼─────────────────────┼──────────┼──────────────┼──────────┤\n",
       "│ 1     │ 1237645879578460255 │ 11.101   │ 0.029        │ 518.017  │\n",
       "│ 2     │ 1237645941824356443 │ 10.539   │ 0.032        │ 172.103  │\n",
       "│ 3     │ 1237645943974396134 │ 11.318   │ 0.015        │ 654.248  │\n",
       "│ 4     │ 1237645943975837722 │ 10.862   │ 0.026        │ 285.273  │\n",
       "│ 5     │ 1237645943978328289 │ 9.485    │ 0.042        │ 165.697  │\n",
       "│ 6     │ 1237645943978393694 │ 10.756   │ 0.029        │ 173.811  │\n",
       "│ 7     │ 1237645943978983579 │ 10.168   │ 0.024        │ 207.549  │\n",
       "│ 8     │ 1237645943978983683 │ 11.792   │ 0.017        │ 794.322  │\n",
       "│ 9     │ 1237645943979114622 │ 10.932   │ 0.044        │ 168.26   │\n",
       "│ 10    │ 1237645943979507954 │ 10.82    │ 0.012        │ 158.437  │\n",
       "│ 11    │ 1237645943979638945 │ 10.09    │ 0.04         │ 163.562  │\n",
       "⋮\n",
       "│ 76254 │ 1237680269351059849 │ 10.452   │ 0.032        │ 216.944  │\n",
       "│ 76255 │ 1237680269354074542 │ 10.931   │ 0.015        │ 361.288  │\n",
       "│ 76256 │ 1237680272573596177 │ 11.683   │ 0.01         │ 1027.92  │\n",
       "│ 76257 │ 1237680296734032113 │ 11.227   │ 0.023        │ 482.999  │\n",
       "│ 76258 │ 1237680297272476017 │ 10.806   │ 0.02         │ 263.066  │\n",
       "│ 76259 │ 1237680297805283668 │ 10.995   │ 0.041        │ 316.875  │\n",
       "│ 76260 │ 1237680298342285780 │ 11.044   │ 0.03         │ 412.962  │\n",
       "│ 76261 │ 1237680298344775943 │ 11.628   │ 0.026        │ 673.038  │\n",
       "│ 76262 │ 1237680305857626739 │ 11.297   │ 0.015        │ 342.498  │\n",
       "│ 76263 │ 1237680306394628150 │ 11.002   │ 0.025        │ 419.795  │\n",
       "│ 76264 │ 1237680331091607873 │ 10.417   │ 0.039        │ 175.52   │\n",
       "│ 76265 │ 1237680331628347642 │ 10.765   │ 0.05         │ 299.792  │"
      ]
     },
     "execution_count": 196,
     "metadata": {},
     "output_type": "execute_result"
    }
   ],
   "source": [
    "trainmeta = readtable(\"/Users/ken/Coding/astrohack/Train.csv\",separator=';')\n",
    "sort!(trainmeta) #sort on ID to match directory listing!"
   ]
  },
  {
   "cell_type": "code",
   "execution_count": 51,
   "metadata": {
    "nbpresent": {
     "id": "a6599d5a-0437-4c54-9c79-abac7b934282"
    }
   },
   "outputs": [
    {
     "data": {
      "text/plain": [
       "true"
      ]
     },
     "execution_count": 51,
     "metadata": {},
     "output_type": "execute_result"
    }
   ],
   "source": [
    "size(trainmeta,1) == length(trainlist)"
   ]
  },
  {
   "cell_type": "code",
   "execution_count": 191,
   "metadata": {
    "nbpresent": {
     "id": "18722c84-91da-42c6-a03b-74b907647cc9"
    }
   },
   "outputs": [
    {
     "name": "stderr",
     "output_type": "stream",
     "text": [
      "WARNING: Method definition process(Any) in module Main at In[189]:3 overwritten at In[191]:3.\n",
      "WARNING: Method definition process(Any) in module Main at In[189]:3 overwritten at In[191]:3.\n",
      "WARNING: Method definition process(Any) in module Main at In[189]:3 overwritten at In[191]:3.\n",
      "WARNING: Method definition process(Any) in module Main at In[189]:3 overwritten at In[191]:3.\n",
      "WARNING: Method definition process(Any) in module Main at In[189]:3 overwritten at In[191]:3.\n",
      "WARNING: Method definition process(Any) in module Main at In[189]:3 overwritten at In[191]:3.\n",
      "WARNING: Method definition process(Any) in module Main at In[189]:3 overwritten at In[191]:3.\n",
      "WARNING: Method definition process(Any) in module Main at In[189]:3 overwritten at In[191]:3WARNING: Method definition process.\n",
      "(Any) in module Main at In[189]:3 overwritten at In[191]:3.\n"
     ]
    }
   ],
   "source": [
    "@everywhere function process(file)\n",
    "    \n",
    "    BINTH  = 0.05 # chosen by eye\n",
    "    BOXMIN = 10   # minimum crop of 100 pixels\n",
    "    T = Float32   # typical premature optimization\n",
    "    \n",
    "    img_raw = readcsv(file, T) \n",
    "    ci, cj = fld.(size(img_raw), 2)\n",
    "    \n",
    "    # get percentiles for noise levels\n",
    "    img_vec = reshape(img_raw, length(img_raw))\n",
    "    p1 = StatsBase.percentile(img_vec, 1)\n",
    "    p2 = StatsBase.percentile(img_vec, 5)\n",
    "    \n",
    "    # select the galaxy by thresholding smoothed image and labeling blobs\n",
    "    img_smooth = imfilter(T, img_raw, Kernel.gaussian(2))\n",
    "    img_bin = img_smooth .> BINTH\n",
    "    labels = label_components(img_bin)\n",
    "    labs_ind = labels .== labels[ci, cj]\n",
    "    \n",
    "    # crop galaxy\n",
    "    cwidth, cheight = max(findbox(labs_ind), (BOXMIN,BOXMIN))\n",
    "    crop_ind = ci-cheight:ci+cheight, cj-cwidth:cj+cwidth\n",
    "    img_crop = img_raw[crop_ind...]\n",
    "\n",
    "    #Crudely set non galaxy values in crop to zero to remove possible other galaxy\n",
    "    labels_ind_crop = labs_ind[crop_ind...]\n",
    "    img_crop[!labels_ind_crop] = 0\n",
    "    \n",
    "    # get top eigenvalues (spectra) for symmetry features\n",
    "    reseigs = eigs(img_crop'*img_crop, nev=10)\n",
    "    spect = norm.(reseigs[1])\n",
    "    \n",
    "    # get sum of intensities and (squared) noise\n",
    "    s1 = sum(img_crop)\n",
    "    img_crop_smooth = view(img_smooth, crop_ind...)\n",
    "    s2 = sum(img_crop - img_crop_smooth)\n",
    "    s3 = sum((img_crop - img_crop_smooth).^2)\n",
    "    s4 = sum(labs_ind) #number of galaxy pixels \n",
    "    s5 = norm(img_crop) #why not..\n",
    "    \n",
    "    # get entropy \n",
    "    e1 = Images.entropy(img_crop)\n",
    "    e2 = Images.entropy(img_crop - imfilter(T, img_crop, Kernel.gaussian(2)))\n",
    "    \n",
    "    return T[p1,p2, s1, s2, s3, s4, s5, e1, e2, spect...]\n",
    "end"
   ]
  },
  {
   "cell_type": "code",
   "execution_count": 193,
   "metadata": {
    "nbpresent": {
     "id": "9133804e-fa45-4e7c-a048-4e604fb0af64"
    }
   },
   "outputs": [
    {
     "name": "stdout",
     "output_type": "stream",
     "text": [
      "  0.011020 seconds (35.67 k allocations: 2.102 MB)\n"
     ]
    },
    {
     "data": {
      "text/plain": [
       "19-element Array{Float32,1}:\n",
       "   -0.019007 \n",
       "   -0.0117548\n",
       "  309.332    \n",
       "  -11.8464   \n",
       "   39.1035   \n",
       " 1283.0      \n",
       "   19.6011   \n",
       "    4.088    \n",
       "    3.27034  \n",
       "  384.204    \n",
       "    8.92826  \n",
       "    0.288739 \n",
       "    0.174709 \n",
       "    0.0511862\n",
       "    0.0380456\n",
       "    0.0332355\n",
       "    0.0284405\n",
       "    0.0271679\n",
       "    0.0230588"
      ]
     },
     "execution_count": 193,
     "metadata": {},
     "output_type": "execute_result"
    }
   ],
   "source": [
    "# test the function\n",
    "@time process(joinpath(traindir, trainlist[10]))"
   ]
  },
  {
   "cell_type": "code",
   "execution_count": 217,
   "metadata": {
    "nbpresent": {
     "id": "1d25d85c-166a-44a9-b2eb-3a9111056476"
    }
   },
   "outputs": [
    {
     "name": "stdout",
     "output_type": "stream",
     "text": [
      "  0.009558 seconds (162 allocations: 8.563 KB)\n"
     ]
    },
    {
     "data": {
      "text/plain": [
       "19-element Array{Float32,1}:\n",
       "   -0.019007 \n",
       "   -0.0117548\n",
       "  309.332    \n",
       "  -11.8464   \n",
       "   39.1035   \n",
       " 1283.0      \n",
       "   19.6011   \n",
       "    4.088    \n",
       "    3.27034  \n",
       "  384.204    \n",
       "    8.92826  \n",
       "    0.288739 \n",
       "    0.174709 \n",
       "    0.0511882\n",
       "    0.0380461\n",
       "    0.0332357\n",
       "    0.0284385\n",
       "    0.0271685\n",
       "    0.0230591"
      ]
     },
     "execution_count": 217,
     "metadata": {},
     "output_type": "execute_result"
    }
   ],
   "source": [
    "# test on other worker thread\n",
    "@time remotecall_fetch(process, 2, joinpath(traindir, trainlist[10]))"
   ]
  },
  {
   "cell_type": "code",
   "execution_count": 68,
   "metadata": {
    "collapsed": true,
    "nbpresent": {
     "id": "6546dc11-d802-4707-ae62-32d2c4680cba"
    }
   },
   "outputs": [],
   "source": [
    "# @time begin\n",
    "#     N = 100\n",
    "#     fs = zeros(N, 15)\n",
    "#     fs[:, 1] = trainmeta[:Distance][1:N]\n",
    "#     @sync @parallel for i=1:N\n",
    "#         file = joinpath(traindir, trainlist[i])\n",
    "#         fs[i, 2:end] = process(file)\n",
    "#     end\n",
    "# end"
   ]
  },
  {
   "cell_type": "code",
   "execution_count": 197,
   "metadata": {
    "nbpresent": {
     "id": "b7dc863b-6955-4e1c-8669-e6b966c4d5ac"
    },
    "scrolled": true
   },
   "outputs": [
    {
     "name": "stdout",
     "output_type": "stream",
     "text": [
      "387.255984 seconds (11.21 M allocations: 448.294 MB, 0.18% gc time)\n"
     ]
    }
   ],
   "source": [
    "# process all train images in parallel and extract features\n",
    "# longest step, about 6 minutes on my 2015 macbook pro\n",
    "@time resmap = pmap(process, String[joinpath(traindir, f) for f in trainlist]);"
   ]
  },
  {
   "cell_type": "code",
   "execution_count": 278,
   "metadata": {
    "collapsed": true,
    "nbpresent": {
     "id": "96db7311-4ad6-4554-aeeb-70e5363dc7a2"
    }
   },
   "outputs": [],
   "source": [
    "feats = zeros(eltype(resmap[1]), length(resmap), 1+length(resmap[1]))\n",
    "feats[:, 1] = trainmeta[:Distance]\n",
    "for i = 1:length(resmap)\n",
    "    feats[i, 2:end] = resmap[i]\n",
    "end"
   ]
  },
  {
   "cell_type": "code",
   "execution_count": 201,
   "metadata": {
    "collapsed": true,
    "nbpresent": {
     "id": "df2647cc-d0d0-4bbc-a8f2-61a5ed3ad0a8"
    }
   },
   "outputs": [],
   "source": [
    "values = convert(Array{Float32}, trainmeta[:logMstar]);"
   ]
  },
  {
   "cell_type": "markdown",
   "metadata": {
    "nbpresent": {
     "id": "0f27f5d3-d233-4df2-82b8-0199e3ae5ed0"
    }
   },
   "source": [
    "# Regression\n",
    "XGBoost has a known [compile issue](https://xgboost.readthedocs.io/en/latest/build.html#building-on-osx) on mac because clang does not come with multithreaded OpenMP installed.\n",
    "So I installed gcc with homebrew `brew install gcc --without-multilib`, but you still have to link gcc-6 and g++-6 locally! \n",
    "I installed `Pkg.add(\"XGBoost\")` and in the `deps` folder I copied the config.mk to main xgboost folder and changed the gcc and g++ to local /usr/local/bin/gcc-6 paths."
   ]
  },
  {
   "cell_type": "code",
   "execution_count": 218,
   "metadata": {
    "collapsed": true,
    "nbpresent": {
     "id": "1ccd7d0d-f5e1-4f1d-b723-2a16fa50292f"
    }
   },
   "outputs": [],
   "source": [
    "using XGBoost "
   ]
  },
  {
   "cell_type": "code",
   "execution_count": 219,
   "metadata": {
    "nbpresent": {
     "id": "26ab6edb-4de3-4372-9675-c2b7134c8134"
    }
   },
   "outputs": [
    {
     "data": {
      "text/plain": [
       "1374"
      ]
     },
     "execution_count": 219,
     "metadata": {},
     "output_type": "execute_result"
    }
   ],
   "source": [
    "sum(values .== -99) #missing values!"
   ]
  },
  {
   "cell_type": "code",
   "execution_count": 204,
   "metadata": {
    "nbpresent": {
     "id": "a7d5668f-56bc-4bc7-a93b-c0b5de41d2cc"
    }
   },
   "outputs": [
    {
     "data": {
      "text/plain": [
       "(74891,20)"
      ]
     },
     "execution_count": 204,
     "metadata": {},
     "output_type": "execute_result"
    }
   ],
   "source": [
    "# with removing missing values (god damnit)\n",
    "nrows = length(resmap) - sum(values.==-99)\n",
    "T = eltype(resmap[1])\n",
    "feats2 = zeros(T, nrows, size(feats, 2))\n",
    "values2 = zeros(T, nrows)\n",
    "err2 = zeros(T, nrows)\n",
    "currenti = 1\n",
    "for i = 1:length(resmap)\n",
    "    if values[i] != -99\n",
    "        feats2[currenti, 1] = trainmeta[:Distance][i]\n",
    "        feats2[currenti, 2:end] = resmap[i]\n",
    "        values2[currenti] = values[i]\n",
    "        err2[currenti] = trainmeta[:err_logMstar][i]\n",
    "        currenti += 1\n",
    "    end\n",
    "end\n",
    "size(feats2)"
   ]
  },
  {
   "cell_type": "code",
   "execution_count": 205,
   "metadata": {
    "nbpresent": {
     "id": "f2483363-9f57-4d76-93be-19270f418bbc"
    }
   },
   "outputs": [
    {
     "data": {
      "text/plain": [
       "Plots.GRBackend()"
      ]
     },
     "execution_count": 205,
     "metadata": {},
     "output_type": "execute_result"
    }
   ],
   "source": [
    "using Plots\n",
    "gr()"
   ]
  },
  {
   "cell_type": "code",
   "execution_count": 206,
   "metadata": {
    "nbpresent": {
     "id": "6bedc75b-4e69-4553-abce-4eab140b42e2"
    }
   },
   "outputs": [
    {
     "data": {
      "text/html": [
       "<?xml version=\"1.0\" encoding=\"utf-8\"?>\n",
       "<svg xmlns=\"http://www.w3.org/2000/svg\" xmlns:xlink=\"http://www.w3.org/1999/xlink\" width=\"600\" height=\"400\" viewBox=\"0 0 600 400\">\n",
       "<defs>\n",
       "  <clipPath id=\"clip00\">\n",
       "    <rect x=\"0\" y=\"0\" width=\"600\" height=\"400\"/>\n",
       "  </clipPath>\n",
       "</defs>\n",
       "<polygon clip-path=\"url(#clip00)\" points=\"\n",
       "0,400 600,400 600,0 0,0 \n",
       "  \" fill=\"#ffffff\" fill-opacity=\"1\"/>\n",
       "<defs>\n",
       "  <clipPath id=\"clip01\">\n",
       "    <rect x=\"120\" y=\"0\" width=\"421\" height=\"400\"/>\n",
       "  </clipPath>\n",
       "</defs>\n",
       "<polygon clip-path=\"url(#clip00)\" points=\"\n",
       "39.4926,384.952 596.063,384.952 596.063,3.93701 39.4926,3.93701 \n",
       "  \" fill=\"#ffffff\" fill-opacity=\"1\"/>\n",
       "<defs>\n",
       "  <clipPath id=\"clip02\">\n",
       "    <rect x=\"39\" y=\"3\" width=\"557\" height=\"382\"/>\n",
       "  </clipPath>\n",
       "</defs>\n",
       "<polyline clip-path=\"url(#clip02)\" style=\"stroke:#00002d; stroke-width:0.8; stroke-opacity:0.5; fill:none\" stroke-dasharray=\"1, 2\" points=\"\n",
       "  121.435,379.237 121.435,9.65223 \n",
       "  \"/>\n",
       "<polyline clip-path=\"url(#clip02)\" style=\"stroke:#00002d; stroke-width:0.8; stroke-opacity:0.5; fill:none\" stroke-dasharray=\"1, 2\" points=\"\n",
       "  227.509,379.237 227.509,9.65223 \n",
       "  \"/>\n",
       "<polyline clip-path=\"url(#clip02)\" style=\"stroke:#00002d; stroke-width:0.8; stroke-opacity:0.5; fill:none\" stroke-dasharray=\"1, 2\" points=\"\n",
       "  333.583,379.237 333.583,9.65223 \n",
       "  \"/>\n",
       "<polyline clip-path=\"url(#clip02)\" style=\"stroke:#00002d; stroke-width:0.8; stroke-opacity:0.5; fill:none\" stroke-dasharray=\"1, 2\" points=\"\n",
       "  439.657,379.237 439.657,9.65223 \n",
       "  \"/>\n",
       "<polyline clip-path=\"url(#clip02)\" style=\"stroke:#00002d; stroke-width:0.8; stroke-opacity:0.5; fill:none\" stroke-dasharray=\"1, 2\" points=\"\n",
       "  545.731,379.237 545.731,9.65223 \n",
       "  \"/>\n",
       "<polyline clip-path=\"url(#clip02)\" style=\"stroke:#00002d; stroke-width:0.8; stroke-opacity:0.5; fill:none\" stroke-dasharray=\"1, 2\" points=\"\n",
       "  47.8411,384.952 587.714,384.952 \n",
       "  \"/>\n",
       "<polyline clip-path=\"url(#clip02)\" style=\"stroke:#00002d; stroke-width:0.8; stroke-opacity:0.5; fill:none\" stroke-dasharray=\"1, 2\" points=\"\n",
       "  47.8411,282.748 587.714,282.748 \n",
       "  \"/>\n",
       "<polyline clip-path=\"url(#clip02)\" style=\"stroke:#00002d; stroke-width:0.8; stroke-opacity:0.5; fill:none\" stroke-dasharray=\"1, 2\" points=\"\n",
       "  47.8411,180.545 587.714,180.545 \n",
       "  \"/>\n",
       "<polyline clip-path=\"url(#clip02)\" style=\"stroke:#00002d; stroke-width:0.8; stroke-opacity:0.5; fill:none\" stroke-dasharray=\"1, 2\" points=\"\n",
       "  47.8411,78.3412 587.714,78.3412 \n",
       "  \"/>\n",
       "<polyline clip-path=\"url(#clip02)\" style=\"stroke:#00002d; stroke-width:0.8; stroke-opacity:1; fill:none\" points=\"\n",
       "  39.4926,384.952 596.063,384.952 \n",
       "  \"/>\n",
       "<polyline clip-path=\"url(#clip02)\" style=\"stroke:#00002d; stroke-width:0.8; stroke-opacity:1; fill:none\" points=\"\n",
       "  121.435,384.952 121.435,379.237 \n",
       "  \"/>\n",
       "<polyline clip-path=\"url(#clip02)\" style=\"stroke:#00002d; stroke-width:0.8; stroke-opacity:1; fill:none\" points=\"\n",
       "  227.509,384.952 227.509,379.237 \n",
       "  \"/>\n",
       "<polyline clip-path=\"url(#clip02)\" style=\"stroke:#00002d; stroke-width:0.8; stroke-opacity:1; fill:none\" points=\"\n",
       "  333.583,384.952 333.583,379.237 \n",
       "  \"/>\n",
       "<polyline clip-path=\"url(#clip02)\" style=\"stroke:#00002d; stroke-width:0.8; stroke-opacity:1; fill:none\" points=\"\n",
       "  439.657,384.952 439.657,379.237 \n",
       "  \"/>\n",
       "<polyline clip-path=\"url(#clip02)\" style=\"stroke:#00002d; stroke-width:0.8; stroke-opacity:1; fill:none\" points=\"\n",
       "  545.731,384.952 545.731,379.237 \n",
       "  \"/>\n",
       "<polyline clip-path=\"url(#clip02)\" style=\"stroke:#00002d; stroke-width:0.8; stroke-opacity:1; fill:none\" points=\"\n",
       "  39.4926,384.952 39.4926,3.93701 \n",
       "  \"/>\n",
       "<polyline clip-path=\"url(#clip02)\" style=\"stroke:#00002d; stroke-width:0.8; stroke-opacity:1; fill:none\" points=\"\n",
       "  39.4926,384.952 47.8411,384.952 \n",
       "  \"/>\n",
       "<polyline clip-path=\"url(#clip02)\" style=\"stroke:#00002d; stroke-width:0.8; stroke-opacity:1; fill:none\" points=\"\n",
       "  39.4926,282.748 47.8411,282.748 \n",
       "  \"/>\n",
       "<polyline clip-path=\"url(#clip02)\" style=\"stroke:#00002d; stroke-width:0.8; stroke-opacity:1; fill:none\" points=\"\n",
       "  39.4926,180.545 47.8411,180.545 \n",
       "  \"/>\n",
       "<polyline clip-path=\"url(#clip02)\" style=\"stroke:#00002d; stroke-width:0.8; stroke-opacity:1; fill:none\" points=\"\n",
       "  39.4926,78.3412 47.8411,78.3412 \n",
       "  \"/>\n",
       "<g clip-path=\"url(#clip00)\">\n",
       "<text style=\"fill:#00002d; fill-opacity:1; font-family:Arial,Helvetica Neue,Helvetica,sans-serif; font-size:12; text-anchor:middle;\" transform=\"rotate(0, 121.435, 396.952)\" x=\"121.435\" y=\"396.952\">8</text>\n",
       "</g>\n",
       "<g clip-path=\"url(#clip00)\">\n",
       "<text style=\"fill:#00002d; fill-opacity:1; font-family:Arial,Helvetica Neue,Helvetica,sans-serif; font-size:12; text-anchor:middle;\" transform=\"rotate(0, 227.509, 396.952)\" x=\"227.509\" y=\"396.952\">9</text>\n",
       "</g>\n",
       "<g clip-path=\"url(#clip00)\">\n",
       "<text style=\"fill:#00002d; fill-opacity:1; font-family:Arial,Helvetica Neue,Helvetica,sans-serif; font-size:12; text-anchor:middle;\" transform=\"rotate(0, 333.583, 396.952)\" x=\"333.583\" y=\"396.952\">10</text>\n",
       "</g>\n",
       "<g clip-path=\"url(#clip00)\">\n",
       "<text style=\"fill:#00002d; fill-opacity:1; font-family:Arial,Helvetica Neue,Helvetica,sans-serif; font-size:12; text-anchor:middle;\" transform=\"rotate(0, 439.657, 396.952)\" x=\"439.657\" y=\"396.952\">11</text>\n",
       "</g>\n",
       "<g clip-path=\"url(#clip00)\">\n",
       "<text style=\"fill:#00002d; fill-opacity:1; font-family:Arial,Helvetica Neue,Helvetica,sans-serif; font-size:12; text-anchor:middle;\" transform=\"rotate(0, 545.731, 396.952)\" x=\"545.731\" y=\"396.952\">12</text>\n",
       "</g>\n",
       "<g clip-path=\"url(#clip00)\">\n",
       "<text style=\"fill:#00002d; fill-opacity:1; font-family:Arial,Helvetica Neue,Helvetica,sans-serif; font-size:12; text-anchor:end;\" transform=\"rotate(0, 38.2926, 389.452)\" x=\"38.2926\" y=\"389.452\">0</text>\n",
       "</g>\n",
       "<g clip-path=\"url(#clip00)\">\n",
       "<text style=\"fill:#00002d; fill-opacity:1; font-family:Arial,Helvetica Neue,Helvetica,sans-serif; font-size:12; text-anchor:end;\" transform=\"rotate(0, 38.2926, 287.248)\" x=\"38.2926\" y=\"287.248\">2500</text>\n",
       "</g>\n",
       "<g clip-path=\"url(#clip00)\">\n",
       "<text style=\"fill:#00002d; fill-opacity:1; font-family:Arial,Helvetica Neue,Helvetica,sans-serif; font-size:12; text-anchor:end;\" transform=\"rotate(0, 38.2926, 185.045)\" x=\"38.2926\" y=\"185.045\">5000</text>\n",
       "</g>\n",
       "<g clip-path=\"url(#clip00)\">\n",
       "<text style=\"fill:#00002d; fill-opacity:1; font-family:Arial,Helvetica Neue,Helvetica,sans-serif; font-size:12; text-anchor:end;\" transform=\"rotate(0, 38.2926, 82.8412)\" x=\"38.2926\" y=\"82.8412\">7500</text>\n",
       "</g>\n",
       "<polygon clip-path=\"url(#clip02)\" points=\"\n",
       "55.2446,384.829 55.2446,384.952 72.7468,384.952 72.7468,384.829 55.2446,384.829 55.2446,384.829 \n",
       "  \" fill=\"#0099ff\" fill-opacity=\"1\"/>\n",
       "<polyline clip-path=\"url(#clip02)\" style=\"stroke:#00002d; stroke-width:0.8; stroke-opacity:1; fill:none\" points=\"\n",
       "  55.2446,384.829 55.2446,384.952 72.7468,384.952 72.7468,384.829 55.2446,384.829 \n",
       "  \"/>\n",
       "<polygon clip-path=\"url(#clip02)\" points=\"\n",
       "72.7468,384.584 72.7468,384.952 90.249,384.952 90.249,384.584 72.7468,384.584 72.7468,384.584 \n",
       "  \" fill=\"#0099ff\" fill-opacity=\"1\"/>\n",
       "<polyline clip-path=\"url(#clip02)\" style=\"stroke:#00002d; stroke-width:0.8; stroke-opacity:1; fill:none\" points=\"\n",
       "  72.7468,384.584 72.7468,384.952 90.249,384.952 90.249,384.584 72.7468,384.584 \n",
       "  \"/>\n",
       "<polygon clip-path=\"url(#clip02)\" points=\"\n",
       "90.249,384.42 90.249,384.952 107.751,384.952 107.751,384.42 90.249,384.42 90.249,384.42 \n",
       "  \" fill=\"#0099ff\" fill-opacity=\"1\"/>\n",
       "<polyline clip-path=\"url(#clip02)\" style=\"stroke:#00002d; stroke-width:0.8; stroke-opacity:1; fill:none\" points=\"\n",
       "  90.249,384.42 90.249,384.952 107.751,384.952 107.751,384.42 90.249,384.42 \n",
       "  \"/>\n",
       "<polygon clip-path=\"url(#clip02)\" points=\"\n",
       "107.751,383.112 107.751,384.952 125.253,384.952 125.253,383.112 107.751,383.112 107.751,383.112 \n",
       "  \" fill=\"#0099ff\" fill-opacity=\"1\"/>\n",
       "<polyline clip-path=\"url(#clip02)\" style=\"stroke:#00002d; stroke-width:0.8; stroke-opacity:1; fill:none\" points=\"\n",
       "  107.751,383.112 107.751,384.952 125.253,384.952 125.253,383.112 107.751,383.112 \n",
       "  \"/>\n",
       "<polygon clip-path=\"url(#clip02)\" points=\"\n",
       "125.253,382.622 125.253,384.952 142.756,384.952 142.756,382.622 125.253,382.622 125.253,382.622 \n",
       "  \" fill=\"#0099ff\" fill-opacity=\"1\"/>\n",
       "<polyline clip-path=\"url(#clip02)\" style=\"stroke:#00002d; stroke-width:0.8; stroke-opacity:1; fill:none\" points=\"\n",
       "  125.253,382.622 125.253,384.952 142.756,384.952 142.756,382.622 125.253,382.622 \n",
       "  \"/>\n",
       "<polygon clip-path=\"url(#clip02)\" points=\"\n",
       "142.756,379.515 142.756,384.952 160.258,384.952 160.258,379.515 142.756,379.515 142.756,379.515 \n",
       "  \" fill=\"#0099ff\" fill-opacity=\"1\"/>\n",
       "<polyline clip-path=\"url(#clip02)\" style=\"stroke:#00002d; stroke-width:0.8; stroke-opacity:1; fill:none\" points=\"\n",
       "  142.756,379.515 142.756,384.952 160.258,384.952 160.258,379.515 142.756,379.515 \n",
       "  \"/>\n",
       "<polygon clip-path=\"url(#clip02)\" points=\"\n",
       "160.258,376.816 160.258,384.952 177.76,384.952 177.76,376.816 160.258,376.816 160.258,376.816 \n",
       "  \" fill=\"#0099ff\" fill-opacity=\"1\"/>\n",
       "<polyline clip-path=\"url(#clip02)\" style=\"stroke:#00002d; stroke-width:0.8; stroke-opacity:1; fill:none\" points=\"\n",
       "  160.258,376.816 160.258,384.952 177.76,384.952 177.76,376.816 160.258,376.816 \n",
       "  \"/>\n",
       "<polygon clip-path=\"url(#clip02)\" points=\"\n",
       "177.76,369.908 177.76,384.952 195.262,384.952 195.262,369.908 177.76,369.908 177.76,369.908 \n",
       "  \" fill=\"#0099ff\" fill-opacity=\"1\"/>\n",
       "<polyline clip-path=\"url(#clip02)\" style=\"stroke:#00002d; stroke-width:0.8; stroke-opacity:1; fill:none\" points=\"\n",
       "  177.76,369.908 177.76,384.952 195.262,384.952 195.262,369.908 177.76,369.908 \n",
       "  \"/>\n",
       "<polygon clip-path=\"url(#clip02)\" points=\"\n",
       "195.262,362.058 195.262,384.952 212.764,384.952 212.764,362.058 195.262,362.058 195.262,362.058 \n",
       "  \" fill=\"#0099ff\" fill-opacity=\"1\"/>\n",
       "<polyline clip-path=\"url(#clip02)\" style=\"stroke:#00002d; stroke-width:0.8; stroke-opacity:1; fill:none\" points=\"\n",
       "  195.262,362.058 195.262,384.952 212.764,384.952 212.764,362.058 195.262,362.058 \n",
       "  \"/>\n",
       "<polygon clip-path=\"url(#clip02)\" points=\"\n",
       "212.765,349.876 212.765,384.952 230.267,384.952 230.267,349.876 212.765,349.876 212.765,349.876 \n",
       "  \" fill=\"#0099ff\" fill-opacity=\"1\"/>\n",
       "<polyline clip-path=\"url(#clip02)\" style=\"stroke:#00002d; stroke-width:0.8; stroke-opacity:1; fill:none\" points=\"\n",
       "  212.765,349.876 212.765,384.952 230.267,384.952 230.267,349.876 212.765,349.876 \n",
       "  \"/>\n",
       "<polygon clip-path=\"url(#clip02)\" points=\"\n",
       "230.267,337.325 230.267,384.952 247.769,384.952 247.769,337.325 230.267,337.325 230.267,337.325 \n",
       "  \" fill=\"#0099ff\" fill-opacity=\"1\"/>\n",
       "<polyline clip-path=\"url(#clip02)\" style=\"stroke:#00002d; stroke-width:0.8; stroke-opacity:1; fill:none\" points=\"\n",
       "  230.267,337.325 230.267,384.952 247.769,384.952 247.769,337.325 230.267,337.325 \n",
       "  \"/>\n",
       "<polygon clip-path=\"url(#clip02)\" points=\"\n",
       "247.769,324.529 247.769,384.952 265.271,384.952 265.271,324.529 247.769,324.529 247.769,324.529 \n",
       "  \" fill=\"#0099ff\" fill-opacity=\"1\"/>\n",
       "<polyline clip-path=\"url(#clip02)\" style=\"stroke:#00002d; stroke-width:0.8; stroke-opacity:1; fill:none\" points=\"\n",
       "  247.769,324.529 247.769,384.952 265.271,384.952 265.271,324.529 247.769,324.529 \n",
       "  \"/>\n",
       "<polygon clip-path=\"url(#clip02)\" points=\"\n",
       "265.271,310.834 265.271,384.952 282.773,384.952 282.773,310.834 265.271,310.834 265.271,310.834 \n",
       "  \" fill=\"#0099ff\" fill-opacity=\"1\"/>\n",
       "<polyline clip-path=\"url(#clip02)\" style=\"stroke:#00002d; stroke-width:0.8; stroke-opacity:1; fill:none\" points=\"\n",
       "  265.271,310.834 265.271,384.952 282.773,384.952 282.773,310.834 265.271,310.834 \n",
       "  \"/>\n",
       "<polygon clip-path=\"url(#clip02)\" points=\"\n",
       "282.773,296.812 282.773,384.952 300.276,384.952 300.276,296.812 282.773,296.812 282.773,296.812 \n",
       "  \" fill=\"#0099ff\" fill-opacity=\"1\"/>\n",
       "<polyline clip-path=\"url(#clip02)\" style=\"stroke:#00002d; stroke-width:0.8; stroke-opacity:1; fill:none\" points=\"\n",
       "  282.773,296.812 282.773,384.952 300.276,384.952 300.276,296.812 282.773,296.812 \n",
       "  \"/>\n",
       "<polygon clip-path=\"url(#clip02)\" points=\"\n",
       "300.276,274.122 300.276,384.952 317.778,384.952 317.778,274.122 300.276,274.122 300.276,274.122 \n",
       "  \" fill=\"#0099ff\" fill-opacity=\"1\"/>\n",
       "<polyline clip-path=\"url(#clip02)\" style=\"stroke:#00002d; stroke-width:0.8; stroke-opacity:1; fill:none\" points=\"\n",
       "  300.276,274.122 300.276,384.952 317.778,384.952 317.778,274.122 300.276,274.122 \n",
       "  \"/>\n",
       "<polygon clip-path=\"url(#clip02)\" points=\"\n",
       "317.778,257.034 317.778,384.952 335.28,384.952 335.28,257.034 317.778,257.034 317.778,257.034 \n",
       "  \" fill=\"#0099ff\" fill-opacity=\"1\"/>\n",
       "<polyline clip-path=\"url(#clip02)\" style=\"stroke:#00002d; stroke-width:0.8; stroke-opacity:1; fill:none\" points=\"\n",
       "  317.778,257.034 317.778,384.952 335.28,384.952 335.28,257.034 317.778,257.034 \n",
       "  \"/>\n",
       "<polygon clip-path=\"url(#clip02)\" points=\"\n",
       "335.28,225.8 335.28,384.952 352.782,384.952 352.782,225.8 335.28,225.8 335.28,225.8 \n",
       "  \" fill=\"#0099ff\" fill-opacity=\"1\"/>\n",
       "<polyline clip-path=\"url(#clip02)\" style=\"stroke:#00002d; stroke-width:0.8; stroke-opacity:1; fill:none\" points=\"\n",
       "  335.28,225.8 335.28,384.952 352.782,384.952 352.782,225.8 335.28,225.8 \n",
       "  \"/>\n",
       "<polygon clip-path=\"url(#clip02)\" points=\"\n",
       "352.782,183.488 352.782,384.952 370.284,384.952 370.284,183.488 352.782,183.488 352.782,183.488 \n",
       "  \" fill=\"#0099ff\" fill-opacity=\"1\"/>\n",
       "<polyline clip-path=\"url(#clip02)\" style=\"stroke:#00002d; stroke-width:0.8; stroke-opacity:1; fill:none\" points=\"\n",
       "  352.782,183.488 352.782,384.952 370.284,384.952 370.284,183.488 352.782,183.488 \n",
       "  \"/>\n",
       "<polygon clip-path=\"url(#clip02)\" points=\"\n",
       "370.284,133.327 370.284,384.952 387.787,384.952 387.787,133.327 370.284,133.327 370.284,133.327 \n",
       "  \" fill=\"#0099ff\" fill-opacity=\"1\"/>\n",
       "<polyline clip-path=\"url(#clip02)\" style=\"stroke:#00002d; stroke-width:0.8; stroke-opacity:1; fill:none\" points=\"\n",
       "  370.284,133.327 370.284,384.952 387.787,384.952 387.787,133.327 370.284,133.327 \n",
       "  \"/>\n",
       "<polygon clip-path=\"url(#clip02)\" points=\"\n",
       "387.787,85.9451 387.787,384.952 405.289,384.952 405.289,85.9451 387.787,85.9451 387.787,85.9451 \n",
       "  \" fill=\"#0099ff\" fill-opacity=\"1\"/>\n",
       "<polyline clip-path=\"url(#clip02)\" style=\"stroke:#00002d; stroke-width:0.8; stroke-opacity:1; fill:none\" points=\"\n",
       "  387.787,85.9451 387.787,384.952 405.289,384.952 405.289,85.9451 387.787,85.9451 \n",
       "  \"/>\n",
       "<polygon clip-path=\"url(#clip02)\" points=\"\n",
       "405.289,27.0759 405.289,384.952 422.791,384.952 422.791,27.0759 405.289,27.0759 405.289,27.0759 \n",
       "  \" fill=\"#0099ff\" fill-opacity=\"1\"/>\n",
       "<polyline clip-path=\"url(#clip02)\" style=\"stroke:#00002d; stroke-width:0.8; stroke-opacity:1; fill:none\" points=\"\n",
       "  405.289,27.0759 405.289,384.952 422.791,384.952 422.791,27.0759 405.289,27.0759 \n",
       "  \"/>\n",
       "<polygon clip-path=\"url(#clip02)\" points=\"\n",
       "422.791,3.93701 422.791,384.952 440.293,384.952 440.293,3.93701 422.791,3.93701 422.791,3.93701 \n",
       "  \" fill=\"#0099ff\" fill-opacity=\"1\"/>\n",
       "<polyline clip-path=\"url(#clip02)\" style=\"stroke:#00002d; stroke-width:0.8; stroke-opacity:1; fill:none\" points=\"\n",
       "  422.791,3.93701 422.791,384.952 440.293,384.952 440.293,3.93701 422.791,3.93701 \n",
       "  \"/>\n",
       "<polygon clip-path=\"url(#clip02)\" points=\"\n",
       "440.293,39.9944 440.293,384.952 457.795,384.952 457.795,39.9944 440.293,39.9944 440.293,39.9944 \n",
       "  \" fill=\"#0099ff\" fill-opacity=\"1\"/>\n",
       "<polyline clip-path=\"url(#clip02)\" style=\"stroke:#00002d; stroke-width:0.8; stroke-opacity:1; fill:none\" points=\"\n",
       "  440.293,39.9944 440.293,384.952 457.795,384.952 457.795,39.9944 440.293,39.9944 \n",
       "  \"/>\n",
       "<polygon clip-path=\"url(#clip02)\" points=\"\n",
       "457.796,136.679 457.796,384.952 475.298,384.952 475.298,136.679 457.796,136.679 457.796,136.679 \n",
       "  \" fill=\"#0099ff\" fill-opacity=\"1\"/>\n",
       "<polyline clip-path=\"url(#clip02)\" style=\"stroke:#00002d; stroke-width:0.8; stroke-opacity:1; fill:none\" points=\"\n",
       "  457.796,136.679 457.796,384.952 475.298,384.952 475.298,136.679 457.796,136.679 \n",
       "  \"/>\n",
       "<polygon clip-path=\"url(#clip02)\" points=\"\n",
       "475.298,253.845 475.298,384.952 492.8,384.952 492.8,253.845 475.298,253.845 475.298,253.845 \n",
       "  \" fill=\"#0099ff\" fill-opacity=\"1\"/>\n",
       "<polyline clip-path=\"url(#clip02)\" style=\"stroke:#00002d; stroke-width:0.8; stroke-opacity:1; fill:none\" points=\"\n",
       "  475.298,253.845 475.298,384.952 492.8,384.952 492.8,253.845 475.298,253.845 \n",
       "  \"/>\n",
       "<polygon clip-path=\"url(#clip02)\" points=\"\n",
       "492.8,327.922 492.8,384.952 510.302,384.952 510.302,327.922 492.8,327.922 492.8,327.922 \n",
       "  \" fill=\"#0099ff\" fill-opacity=\"1\"/>\n",
       "<polyline clip-path=\"url(#clip02)\" style=\"stroke:#00002d; stroke-width:0.8; stroke-opacity:1; fill:none\" points=\"\n",
       "  492.8,327.922 492.8,384.952 510.302,384.952 510.302,327.922 492.8,327.922 \n",
       "  \"/>\n",
       "<polygon clip-path=\"url(#clip02)\" points=\"\n",
       "510.302,362.59 510.302,384.952 527.804,384.952 527.804,362.59 510.302,362.59 510.302,362.59 \n",
       "  \" fill=\"#0099ff\" fill-opacity=\"1\"/>\n",
       "<polyline clip-path=\"url(#clip02)\" style=\"stroke:#00002d; stroke-width:0.8; stroke-opacity:1; fill:none\" points=\"\n",
       "  510.302,362.59 510.302,384.952 527.804,384.952 527.804,362.59 510.302,362.59 \n",
       "  \"/>\n",
       "<polygon clip-path=\"url(#clip02)\" points=\"\n",
       "527.804,379.065 527.804,384.952 545.307,384.952 545.307,379.065 527.804,379.065 527.804,379.065 \n",
       "  \" fill=\"#0099ff\" fill-opacity=\"1\"/>\n",
       "<polyline clip-path=\"url(#clip02)\" style=\"stroke:#00002d; stroke-width:0.8; stroke-opacity:1; fill:none\" points=\"\n",
       "  527.804,379.065 527.804,384.952 545.307,384.952 545.307,379.065 527.804,379.065 \n",
       "  \"/>\n",
       "<polygon clip-path=\"url(#clip02)\" points=\"\n",
       "545.307,384.134 545.307,384.952 562.809,384.952 562.809,384.134 545.307,384.134 545.307,384.134 \n",
       "  \" fill=\"#0099ff\" fill-opacity=\"1\"/>\n",
       "<polyline clip-path=\"url(#clip02)\" style=\"stroke:#00002d; stroke-width:0.8; stroke-opacity:1; fill:none\" points=\"\n",
       "  545.307,384.134 545.307,384.952 562.809,384.952 562.809,384.134 545.307,384.134 \n",
       "  \"/>\n",
       "<polygon clip-path=\"url(#clip02)\" points=\"\n",
       "562.809,384.707 562.809,384.952 580.311,384.952 580.311,384.707 562.809,384.707 562.809,384.707 \n",
       "  \" fill=\"#0099ff\" fill-opacity=\"1\"/>\n",
       "<polyline clip-path=\"url(#clip02)\" style=\"stroke:#00002d; stroke-width:0.8; stroke-opacity:1; fill:none\" points=\"\n",
       "  562.809,384.707 562.809,384.952 580.311,384.952 580.311,384.707 562.809,384.707 \n",
       "  \"/>\n",
       "<polygon clip-path=\"url(#clip00)\" points=\"\n",
       "505.547,55.057 578.063,55.057 578.063,24.817 505.547,24.817 \n",
       "  \" fill=\"#ffffff\" fill-opacity=\"1\"/>\n",
       "<polyline clip-path=\"url(#clip00)\" style=\"stroke:#00002d; stroke-width:0.8; stroke-opacity:1; fill:none\" points=\"\n",
       "  505.547,55.057 578.063,55.057 578.063,24.817 505.547,24.817 505.547,55.057 \n",
       "  \"/>\n",
       "<polygon clip-path=\"url(#clip00)\" points=\"\n",
       "511.547,45.985 547.547,45.985 547.547,33.889 511.547,33.889 511.547,45.985 \n",
       "  \" fill=\"#0099ff\" fill-opacity=\"1\"/>\n",
       "<polyline clip-path=\"url(#clip00)\" style=\"stroke:#00002d; stroke-width:0.8; stroke-opacity:1; fill:none\" points=\"\n",
       "  511.547,45.985 547.547,45.985 547.547,33.889 511.547,33.889 511.547,45.985 \n",
       "  \"/>\n",
       "<g clip-path=\"url(#clip00)\">\n",
       "<text style=\"fill:#00002d; fill-opacity:1; font-family:Arial,Helvetica Neue,Helvetica,sans-serif; font-size:12; text-anchor:start;\" transform=\"rotate(0, 553.547, 44.437)\" x=\"553.547\" y=\"44.437\">y1</text>\n",
       "</g>\n",
       "</svg>\n"
      ]
     },
     "execution_count": 206,
     "metadata": {},
     "output_type": "execute_result"
    }
   ],
   "source": [
    "histogram(values2)"
   ]
  },
  {
   "cell_type": "code",
   "execution_count": 208,
   "metadata": {
    "collapsed": true,
    "nbpresent": {
     "id": "932f1ae2-1799-4d01-8e9c-cfd8346f2e25"
    }
   },
   "outputs": [],
   "source": [
    "rand_ids = shuffle(1:length(values2));\n",
    "\n",
    "train_n = length(values2) - 1734\n",
    "train_ids = rand_ids[1:train_n]\n",
    "\n",
    "#train_sample = sample(1:length(feats), train_n, replace=false)\n",
    "train_x = feats2[train_ids, :]\n",
    "train_y = values2[train_ids]\n",
    "\n",
    "test_n  = 1734\n",
    "test_ids= rand_ids[train_n:train_n+test_n]\n",
    "test_x  = feats2[test_ids, :]\n",
    "test_y  = values2[test_ids]\n",
    "test_err= err2[test_ids];"
   ]
  },
  {
   "cell_type": "code",
   "execution_count": 209,
   "metadata": {
    "nbpresent": {
     "id": "86abb0d6-1795-4a00-b4b1-53717b9443af"
    },
    "scrolled": true
   },
   "outputs": [
    {
     "name": "stderr",
     "output_type": "stream",
     "text": [
      "[1]\ttrain-rmse:7.053658\n",
      "[2]\ttrain-rmse:4.942040\n",
      "[3]\ttrain-rmse:3.464624\n",
      "[4]\ttrain-rmse:2.431568\n",
      "[5]\ttrain-rmse:1.710097\n",
      "[6]\ttrain-rmse:1.207397\n",
      "[7]\ttrain-rmse:0.858015\n",
      "[8]\ttrain-rmse:0.615704\n",
      "[9]\ttrain-rmse:0.447069\n",
      "[10]\ttrain-rmse:0.328264\n",
      "[11]\ttrain-rmse:0.243532\n",
      "[12]\ttrain-rmse:0.182273\n",
      "[13]\ttrain-rmse:0.137520\n",
      "[14]\ttrain-rmse:0.104366\n",
      "[15]\ttrain-rmse:0.079667\n",
      "[16]\ttrain-rmse:0.061113\n",
      "[17]\ttrain-rmse:0.047157\n",
      "[18]\ttrain-rmse:0.036617\n",
      "[19]\ttrain-rmse:0.028589\n",
      "[20]\ttrain-rmse:0.022415\n",
      "[21]\ttrain-rmse:0.017671\n",
      "[22]\ttrain-rmse:0.014006\n",
      "[23]\ttrain-rmse:0.011178\n",
      "[24]\ttrain-rmse:0.008958\n",
      "[25]\ttrain-rmse:0.007220\n",
      "[26]\ttrain-rmse:0.005842\n",
      "[27]\ttrain-rmse:0.004757\n",
      "[28]\ttrain-rmse:0.003882\n",
      "[29]\ttrain-rmse:0.003181\n",
      "[30]\ttrain-rmse:0.002616\n",
      "[31]\ttrain-rmse:0.002161\n",
      "[32]\ttrain-rmse:0.001797\n",
      "[33]\ttrain-rmse:0.001501\n",
      "[34]\ttrain-rmse:0.001260\n",
      "[35]\ttrain-rmse:0.001060\n",
      "[36]\ttrain-rmse:0.000909\n",
      "[37]\ttrain-rmse:0.000785\n",
      "[38]\ttrain-rmse:0.000686\n",
      "[39]\ttrain-rmse:0.000604\n",
      "[40]\ttrain-rmse:0.000551\n",
      "[41]\ttrain-rmse:0.000512\n",
      "[42]\ttrain-rmse:0.000505\n",
      "[43]\ttrain-rmse:0.000468\n",
      "[44]\ttrain-rmse:0.000467\n"
     ]
    },
    {
     "name": "stdout",
     "output_type": "stream",
     "text": [
      " 15.151809 seconds (7.82 k allocations: 6.371 MB)\n"
     ]
    },
    {
     "name": "stderr",
     "output_type": "stream",
     "text": [
      "[45]\ttrain-rmse:0.000464\n",
      "[46]\ttrain-rmse:0.000464\n",
      "[47]\ttrain-rmse:0.000464\n",
      "[48]\ttrain-rmse:0.000464\n",
      "[49]\ttrain-rmse:0.000464\n",
      "[50]\ttrain-rmse:0.000464\n"
     ]
    },
    {
     "data": {
      "text/plain": [
       "XGBoost.Booster(Ptr{Void} @0x00007f9bcb14c100)"
      ]
     },
     "execution_count": 209,
     "metadata": {},
     "output_type": "execute_result"
    }
   ],
   "source": [
    "@time boost = xgboost(train_x, 50, label=train_y, max_depth=50, learning_rate=0.3)"
   ]
  },
  {
   "cell_type": "code",
   "execution_count": 210,
   "metadata": {
    "collapsed": true,
    "nbpresent": {
     "id": "9c368a20-d758-4a2d-a890-b7278bb673ba"
    }
   },
   "outputs": [],
   "source": [
    "test_pred = XGBoost.predict(boost, test_x);"
   ]
  },
  {
   "cell_type": "code",
   "execution_count": 211,
   "metadata": {
    "nbpresent": {
     "id": "1c11f619-57d1-4c2c-bd96-97999ad143b6"
    },
    "scrolled": true
   },
   "outputs": [
    {
     "data": {
      "text/plain": [
       "1735×3 Array{Float32,2}:\n",
       " 11.182  11.182    0.009\n",
       " 11.51   11.5777   0.026\n",
       " 10.907  10.8396   0.037\n",
       " 10.59   10.5571   0.041\n",
       " 11.42   11.2049   0.031\n",
       " 10.256  10.011    0.024\n",
       " 11.171  10.6016   0.025\n",
       "  9.349   9.34016  0.055\n",
       " 10.296  10.2444   0.014\n",
       " 10.941  10.942    0.01 \n",
       " 10.71   10.7143   0.042\n",
       " 11.307  11.2312   0.034\n",
       "  9.463   9.29443  0.045\n",
       "  ⋮                     \n",
       "  9.971  10.0718   0.03 \n",
       " 10.808  10.8301   0.022\n",
       " 10.317  10.4416   0.056\n",
       "  9.23    9.22179  0.056\n",
       "  9.746   9.84914  0.033\n",
       " 11.514  11.4574   0.029\n",
       " 10.371  10.3303   0.021\n",
       " 10.349  10.3235   0.033\n",
       " 10.192   9.96918  0.063\n",
       " 10.101  10.2186   0.028\n",
       " 10.792  11.0878   0.023\n",
       " 10.557  10.4991   0.034"
      ]
     },
     "execution_count": 211,
     "metadata": {},
     "output_type": "execute_result"
    }
   ],
   "source": [
    "hcat(test_y, test_pred, test_err)"
   ]
  },
  {
   "cell_type": "code",
   "execution_count": 212,
   "metadata": {
    "nbpresent": {
     "id": "fcb7a3dd-f7f7-44c4-8e63-b4535755515d"
    }
   },
   "outputs": [
    {
     "data": {
      "text/plain": [
       "133952.8f0"
      ]
     },
     "execution_count": 212,
     "metadata": {},
     "output_type": "execute_result"
    }
   ],
   "source": [
    "sum((test_y - test_pred).^2 ./ (test_err.^2))"
   ]
  },
  {
   "cell_type": "markdown",
   "metadata": {
    "nbpresent": {
     "id": "e6a9aa95-b2ed-42b4-9344-3cc49bd099b8"
    }
   },
   "source": [
    "# Submission"
   ]
  },
  {
   "cell_type": "code",
   "execution_count": 236,
   "metadata": {
    "collapsed": true,
    "nbpresent": {
     "id": "da3d84bc-3fd8-4252-938a-53c2ab0ed314"
    }
   },
   "outputs": [],
   "source": [
    "sub_ids = readcsv(\"validationdata_SDSSID.csv\", Int, header=false)\n",
    "# sort!\n",
    "sub_ids = sort!(reshape(sub_ids, length(sub_ids))) \n",
    "sub_dir = \"/Users/ken/Coding/astrohack/Test/\"\n",
    "sub_files = [joinpath(sub_dir, string(id) * \"-g.csv\") for id in sub_ids];"
   ]
  },
  {
   "cell_type": "code",
   "execution_count": 273,
   "metadata": {
    "nbpresent": {
     "id": "cc6f0670-c136-48e6-862b-d5fb93b083af"
    }
   },
   "outputs": [
    {
     "data": {
      "text/plain": [
       "1734"
      ]
     },
     "execution_count": 273,
     "metadata": {},
     "output_type": "execute_result"
    },
    {
     "ename": "BoundsError",
     "evalue": "BoundsError: attempt to access 13-element Array{UInt8,1} at index [-1]",
     "output_type": "error",
     "traceback": [
      "KERNEL EXCEPTION",
      "BoundsError: attempt to access 13-element Array{UInt8,1} at index [-1]",
      "",
      " in next at ./strings/string.jl:92 [inlined]",
      " in getindex(::String, ::Int64) at ./strings/basic.jl:70",
      " in ind2chr(::String, ::Int64) at ./strings/basic.jl:227",
      " in complete_request(::ZMQ.Socket, ::IJulia.Msg) at /Users/ken/.julia/v0.5/IJulia/src/handlers.jl:40",
      " in eventloop(::ZMQ.Socket) at /Users/ken/.julia/v0.5/IJulia/src/eventloop.jl:8",
      " in (::IJulia.##13#19)() at ./task.jl:360"
     ]
    }
   ],
   "source": [
    "length(sub_ids)"
   ]
  },
  {
   "cell_type": "code",
   "execution_count": 251,
   "metadata": {
    "collapsed": true,
    "nbpresent": {
     "id": "1aa1f283-f257-49b0-908f-61d7eb525296"
    }
   },
   "outputs": [],
   "source": [
    "testfiles = readdir(sub_dir);"
   ]
  },
  {
   "cell_type": "code",
   "execution_count": 248,
   "metadata": {
    "collapsed": true,
    "nbpresent": {
     "id": "ffdf888e-cfca-48d7-b5cf-8298011ac63c"
    },
    "scrolled": true
   },
   "outputs": [],
   "source": [
    "# remove i-pics once\n",
    "# i_files = filter(x->x[end-4]=='i', testfiles)\n",
    "\n",
    "# cd(sub_dir)\n",
    "# for file in i_files\n",
    "#     rm(file)\n",
    "# end"
   ]
  },
  {
   "cell_type": "code",
   "execution_count": 254,
   "metadata": {
    "nbpresent": {
     "id": "641eed1a-1199-41b8-a769-7229ac2ce018"
    }
   },
   "outputs": [
    {
     "name": "stdout",
     "output_type": "stream",
     "text": [
      "  7.182995 seconds (234.93 k allocations: 9.468 MB)\n"
     ]
    }
   ],
   "source": [
    "@time subresmap = pmap(process, sub_files);"
   ]
  },
  {
   "cell_type": "code",
   "execution_count": 291,
   "metadata": {
    "nbpresent": {
     "id": "80ce5706-bcf0-48a0-9b36-67ad8943b4ae"
    },
    "scrolled": true
   },
   "outputs": [
    {
     "data": {
      "text/html": [
       "<table class=\"data-frame\"><thead><tr><th></th><th>SDSS_ID</th><th>Distance</th></tr></thead><tbody><tr><th>1</th><td>1237645943978590386</td><td>160.57259858689457</td></tr><tr><th>2</th><td>1237645943979114582</td><td>169.9678038233618</td></tr><tr><th>3</th><td>1237645943979311221</td><td>152.88561248433047</td></tr><tr><th>4</th><td>1237648672922468973</td><td>198.58047431623933</td></tr><tr><th>5</th><td>1237648673992671592</td><td>232.3178022108262</td></tr><tr><th>6</th><td>1237648674529476993</td><td>137.08458549572646</td></tr><tr><th>7</th><td>1237648674532753564</td><td>371.5376616239317</td></tr><tr><th>8</th><td>1237648675603874096</td><td>140.07396898005695</td></tr><tr><th>9</th><td>1237648702972887077</td><td>367.6941685726495</td></tr><tr><th>10</th><td>1237648702978654353</td><td>212.67328217094013</td></tr><tr><th>11</th><td>1237648702979244208</td><td>231.03663786039883</td></tr><tr><th>12</th><td>1237648702983897351</td><td>287.83492406267806</td></tr><tr><th>13</th><td>1237648702985797942</td><td>299.7924579999999</td></tr><tr><th>14</th><td>1237648702986125622</td><td>518.0174523561253</td></tr><tr><th>15</th><td>1237648702992023572</td><td>144.7715715982906</td></tr><tr><th>16</th><td>1237648703503794279</td><td>300.64656756695155</td></tr><tr><th>17</th><td>1237648703504515190</td><td>108.0448602193732</td></tr><tr><th>18</th><td>1237648703505432738</td><td>102.49314803418802</td></tr><tr><th>19</th><td>1237648703505629237</td><td>477.4472479259259</td></tr><tr><th>20</th><td>1237648703508119586</td><td>98.64965498290596</td></tr><tr><th>21</th><td>1237648703509758235</td><td>366.41300422222224</td></tr><tr><th>22</th><td>1237648703512772638</td><td>374.9540998917379</td></tr><tr><th>23</th><td>1237648703516508315</td><td>510.33046625356116</td></tr><tr><th>24</th><td>1237648703527649617</td><td>102.9202028176638</td></tr><tr><th>25</th><td>1237648703531123239</td><td>396.7338938490028</td></tr><tr><th>26</th><td>1237648704045908141</td><td>132.38698287749284</td></tr><tr><th>27</th><td>1237648704046563336</td><td>54.66301228490028</td></tr><tr><th>28</th><td>1237648704054231257</td><td>222.06848740740742</td></tr><tr><th>29</th><td>1237648704055017848</td><td>149.46917421652418</td></tr><tr><th>30</th><td>1237648704057573661</td><td>184.48766646153842</td></tr><tr><th>&vellip;</th><td>&vellip;</td><td>&vellip;</td></tr></tbody></table>"
      ],
      "text/plain": [
       "8447×2 DataFrames.DataFrame\n",
       "│ Row  │ SDSS_ID             │ Distance │\n",
       "├──────┼─────────────────────┼──────────┤\n",
       "│ 1    │ 1237645943978590386 │ 160.573  │\n",
       "│ 2    │ 1237645943979114582 │ 169.968  │\n",
       "│ 3    │ 1237645943979311221 │ 152.886  │\n",
       "│ 4    │ 1237648672922468973 │ 198.58   │\n",
       "│ 5    │ 1237648673992671592 │ 232.318  │\n",
       "│ 6    │ 1237648674529476993 │ 137.085  │\n",
       "│ 7    │ 1237648674532753564 │ 371.538  │\n",
       "│ 8    │ 1237648675603874096 │ 140.074  │\n",
       "│ 9    │ 1237648702972887077 │ 367.694  │\n",
       "│ 10   │ 1237648702978654353 │ 212.673  │\n",
       "│ 11   │ 1237648702979244208 │ 231.037  │\n",
       "⋮\n",
       "│ 8436 │ 1237679477481341013 │ 189.612  │\n",
       "│ 8437 │ 1237679503792341122 │ 296.803  │\n",
       "│ 8438 │ 1237679543509909678 │ 252.389  │\n",
       "│ 8439 │ 1237680000914227483 │ 183.207  │\n",
       "│ 8440 │ 1237680071248838902 │ 614.959  │\n",
       "│ 8441 │ 1237680090576781616 │ 370.684  │\n",
       "│ 8442 │ 1237680092721643956 │ 247.265  │\n",
       "│ 8443 │ 1237680240907255947 │ 447.126  │\n",
       "│ 8444 │ 1237680240911319122 │ 145.626  │\n",
       "│ 8445 │ 1237680240920297607 │ 232.745  │\n",
       "│ 8446 │ 1237680240923508872 │ 173.384  │\n",
       "│ 8447 │ 1237680241434689718 │ 257.941  │"
      ]
     },
     "execution_count": 291,
     "metadata": {},
     "output_type": "execute_result"
    }
   ],
   "source": [
    "submeta = readtable(\"/Users/ken/Coding/astrohack/Test_Distance.csv\",separator=';')\n",
    "sort!(submeta)"
   ]
  },
  {
   "cell_type": "code",
   "execution_count": 261,
   "metadata": {
    "nbpresent": {
     "id": "0b6bf9d0-caa9-4200-a913-a18c8bd21661"
    }
   },
   "outputs": [
    {
     "data": {
      "text/plain": [
       "(8447,2)"
      ]
     },
     "execution_count": 261,
     "metadata": {},
     "output_type": "execute_result"
    }
   ],
   "source": [
    "size(submeta)"
   ]
  },
  {
   "cell_type": "code",
   "execution_count": 271,
   "metadata": {
    "nbpresent": {
     "id": "d952396d-4042-4776-8438-0fa1e7922fa2"
    },
    "scrolled": true
   },
   "outputs": [
    {
     "data": {
      "text/html": [
       "<table class=\"data-frame\"><thead><tr><th></th><th>SDSS_ID</th><th>Distance</th></tr></thead><tbody><tr><th>1</th><td>1237645943979114582</td><td>169.9678038233618</td></tr><tr><th>2</th><td>1237648672922468973</td><td>198.58047431623933</td></tr><tr><th>3</th><td>1237648702986125622</td><td>518.0174523561253</td></tr><tr><th>4</th><td>1237648703505432738</td><td>102.49314803418802</td></tr><tr><th>5</th><td>1237648703508119586</td><td>98.64965498290596</td></tr><tr><th>6</th><td>1237648703509758235</td><td>366.41300422222224</td></tr><tr><th>7</th><td>1237648703516508315</td><td>510.33046625356116</td></tr><tr><th>8</th><td>1237648704045908141</td><td>132.38698287749284</td></tr><tr><th>9</th><td>1237648704046563336</td><td>54.66301228490028</td></tr><tr><th>10</th><td>1237648704057966842</td><td>357.01779898575495</td></tr><tr><th>11</th><td>1237648704061505776</td><td>272.46095185754984</td></tr><tr><th>12</th><td>1237648704596279527</td><td>230.60958307692312</td></tr><tr><th>13</th><td>1237648704600736312</td><td>354.882525068376</td></tr><tr><th>14</th><td>1237648704602702523</td><td>209.2568439031339</td></tr><tr><th>15</th><td>1237648704602767946</td><td>210.11095347008546</td></tr><tr><th>16</th><td>1237648705122074764</td><td>155.8749959686609</td></tr><tr><th>17</th><td>1237648705135641098</td><td>308.3335536695156</td></tr><tr><th>18</th><td>1237648705137607019</td><td>142.6362976809117</td></tr><tr><th>19</th><td>1237648705656783006</td><td>179.36300905982904</td></tr><tr><th>20</th><td>1237648720157540452</td><td>349.75786766666664</td></tr><tr><th>21</th><td>1237648720163045463</td><td>368.1212233561253</td></tr><tr><th>22</th><td>1237648720163111061</td><td>204.98629606837605</td></tr><tr><th>23</th><td>1237648720164225051</td><td>96.94143584900284</td></tr><tr><th>24</th><td>1237648720165470336</td><td>317.72875890598283</td></tr><tr><th>25</th><td>1237648720175235225</td><td>177.6547899259259</td></tr><tr><th>26</th><td>1237648720691134685</td><td>503.4975897179487</td></tr><tr><th>27</th><td>1237648720712237155</td><td>146.9068455156695</td></tr><tr><th>28</th><td>1237648720713679086</td><td>313.45821107122504</td></tr><tr><th>29</th><td>1237648720718201265</td><td>166.55136555555555</td></tr><tr><th>30</th><td>1237648721219158109</td><td>386.05752426210813</td></tr><tr><th>&vellip;</th><td>&vellip;</td><td>&vellip;</td></tr></tbody></table>"
      ],
      "text/plain": [
       "1734×2 DataFrames.DataFrame\n",
       "│ Row  │ SDSS_ID             │ Distance │\n",
       "├──────┼─────────────────────┼──────────┤\n",
       "│ 1    │ 1237645943979114582 │ 169.968  │\n",
       "│ 2    │ 1237648672922468973 │ 198.58   │\n",
       "│ 3    │ 1237648702986125622 │ 518.017  │\n",
       "│ 4    │ 1237648703505432738 │ 102.493  │\n",
       "│ 5    │ 1237648703508119586 │ 98.6497  │\n",
       "│ 6    │ 1237648703509758235 │ 366.413  │\n",
       "│ 7    │ 1237648703516508315 │ 510.33   │\n",
       "│ 8    │ 1237648704045908141 │ 132.387  │\n",
       "│ 9    │ 1237648704046563336 │ 54.663   │\n",
       "│ 10   │ 1237648704057966842 │ 357.018  │\n",
       "│ 11   │ 1237648704061505776 │ 272.461  │\n",
       "⋮\n",
       "│ 1723 │ 1237678622233919544 │ 377.089  │\n",
       "│ 1724 │ 1237678623306088660 │ 507.768  │\n",
       "│ 1725 │ 1237678723164471586 │ 121.711  │\n",
       "│ 1726 │ 1237678860092309623 │ 559.442  │\n",
       "│ 1727 │ 1237678905180946539 │ 401.859  │\n",
       "│ 1728 │ 1237678919142342820 │ 284.846  │\n",
       "│ 1729 │ 1237679169840087160 │ 281.429  │\n",
       "│ 1730 │ 1237679434525114569 │ 376.235  │\n",
       "│ 1731 │ 1237679437736968315 │ 322.426  │\n",
       "│ 1732 │ 1237679437737754841 │ 181.498  │\n",
       "│ 1733 │ 1237679503792341122 │ 296.803  │\n",
       "│ 1734 │ 1237680000914227483 │ 183.207  │"
      ]
     },
     "execution_count": 271,
     "metadata": {},
     "output_type": "execute_result"
    }
   ],
   "source": [
    "sub_ids_df = DataFrame(SDSS_ID=sub_ids)\n",
    "submeta2 = join(submeta, sub_ids_df, on=:SDSS_ID, kind=:inner)"
   ]
  },
  {
   "cell_type": "code",
   "execution_count": 281,
   "metadata": {
    "nbpresent": {
     "id": "c5a9608c-4257-4e8b-863f-1a949466f04c"
    }
   },
   "outputs": [
    {
     "data": {
      "text/plain": [
       "true"
      ]
     },
     "execution_count": 281,
     "metadata": {},
     "output_type": "execute_result"
    }
   ],
   "source": [
    "issorted(submeta2[:SDSS_ID])"
   ]
  },
  {
   "cell_type": "code",
   "execution_count": 272,
   "metadata": {
    "nbpresent": {
     "id": "f80edfbc-599e-40c5-9e46-0cc12c9f10f2"
    }
   },
   "outputs": [
    {
     "data": {
      "text/plain": [
       "(1734,2)"
      ]
     },
     "execution_count": 272,
     "metadata": {},
     "output_type": "execute_result"
    }
   ],
   "source": [
    "size(submeta2)"
   ]
  },
  {
   "cell_type": "code",
   "execution_count": 275,
   "metadata": {
    "nbpresent": {
     "id": "8ce1af6c-dacc-476a-a1b7-b49c21b1c825"
    }
   },
   "outputs": [
    {
     "data": {
      "text/plain": [
       "true"
      ]
     },
     "execution_count": 275,
     "metadata": {},
     "output_type": "execute_result"
    }
   ],
   "source": [
    "all(submeta2[:SDSS_ID] .== sub_ids)"
   ]
  },
  {
   "cell_type": "code",
   "execution_count": 277,
   "metadata": {
    "collapsed": true,
    "nbpresent": {
     "id": "b2b6edaf-de0d-49da-bfc3-846b91b412a9"
    }
   },
   "outputs": [],
   "source": [
    "subfeats = zeros(eltype(subresmap[1]), length(subresmap), 1+length(subresmap[1]))\n",
    "subfeats[:, 1] = submeta2[:Distance]\n",
    "for i = 1:length(subresmap)\n",
    "    subfeats[i, 2:end] = subresmap[i]\n",
    "end"
   ]
  },
  {
   "cell_type": "code",
   "execution_count": 282,
   "metadata": {
    "nbpresent": {
     "id": "4d10d2bf-4feb-4f85-873e-852c8ab547d4"
    },
    "scrolled": true
   },
   "outputs": [
    {
     "data": {
      "text/html": [
       "<table class=\"data-frame\"><thead><tr><th></th><th>pssid</th><th>mass</th></tr></thead><tbody><tr><th>1</th><td>1237645943979114582</td><td>10.253867</td></tr><tr><th>2</th><td>1237648672922468973</td><td>10.499608</td></tr><tr><th>3</th><td>1237648702986125622</td><td>11.209326</td></tr><tr><th>4</th><td>1237648703505432738</td><td>9.918384</td></tr><tr><th>5</th><td>1237648703508119586</td><td>9.894254</td></tr><tr><th>6</th><td>1237648703509758235</td><td>10.147396</td></tr><tr><th>7</th><td>1237648703516508315</td><td>11.507912</td></tr><tr><th>8</th><td>1237648704045908141</td><td>10.090234</td></tr><tr><th>9</th><td>1237648704046563336</td><td>10.331856</td></tr><tr><th>10</th><td>1237648704057966842</td><td>11.38165</td></tr><tr><th>11</th><td>1237648704061505776</td><td>10.500261</td></tr><tr><th>12</th><td>1237648704596279527</td><td>11.028665</td></tr><tr><th>13</th><td>1237648704600736312</td><td>10.517279</td></tr><tr><th>14</th><td>1237648704602702523</td><td>9.920931</td></tr><tr><th>15</th><td>1237648704602767946</td><td>9.871428</td></tr><tr><th>16</th><td>1237648705122074764</td><td>10.525749</td></tr><tr><th>17</th><td>1237648705135641098</td><td>10.855779</td></tr><tr><th>18</th><td>1237648705137607019</td><td>9.664072</td></tr><tr><th>19</th><td>1237648705656783006</td><td>10.777236</td></tr><tr><th>20</th><td>1237648720157540452</td><td>11.080576</td></tr><tr><th>21</th><td>1237648720163045463</td><td>11.019354</td></tr><tr><th>22</th><td>1237648720163111061</td><td>10.698677</td></tr><tr><th>23</th><td>1237648720164225051</td><td>9.682376</td></tr><tr><th>24</th><td>1237648720165470336</td><td>11.08739</td></tr><tr><th>25</th><td>1237648720175235225</td><td>10.604492</td></tr><tr><th>26</th><td>1237648720691134685</td><td>11.087707</td></tr><tr><th>27</th><td>1237648720712237155</td><td>10.511227</td></tr><tr><th>28</th><td>1237648720713679086</td><td>10.898017</td></tr><tr><th>29</th><td>1237648720718201265</td><td>10.513243</td></tr><tr><th>30</th><td>1237648721219158109</td><td>11.407637</td></tr><tr><th>&vellip;</th><td>&vellip;</td><td>&vellip;</td></tr></tbody></table>"
      ],
      "text/plain": [
       "1734×2 DataFrames.DataFrame\n",
       "│ Row  │ pssid               │ mass    │\n",
       "├──────┼─────────────────────┼─────────┤\n",
       "│ 1    │ 1237645943979114582 │ 10.2539 │\n",
       "│ 2    │ 1237648672922468973 │ 10.4996 │\n",
       "│ 3    │ 1237648702986125622 │ 11.2093 │\n",
       "│ 4    │ 1237648703505432738 │ 9.91838 │\n",
       "│ 5    │ 1237648703508119586 │ 9.89425 │\n",
       "│ 6    │ 1237648703509758235 │ 10.1474 │\n",
       "│ 7    │ 1237648703516508315 │ 11.5079 │\n",
       "│ 8    │ 1237648704045908141 │ 10.0902 │\n",
       "│ 9    │ 1237648704046563336 │ 10.3319 │\n",
       "│ 10   │ 1237648704057966842 │ 11.3816 │\n",
       "│ 11   │ 1237648704061505776 │ 10.5003 │\n",
       "⋮\n",
       "│ 1723 │ 1237678622233919544 │ 10.885  │\n",
       "│ 1724 │ 1237678623306088660 │ 11.2099 │\n",
       "│ 1725 │ 1237678723164471586 │ 10.8189 │\n",
       "│ 1726 │ 1237678860092309623 │ 11.3288 │\n",
       "│ 1727 │ 1237678905180946539 │ 10.9814 │\n",
       "│ 1728 │ 1237678919142342820 │ 10.2505 │\n",
       "│ 1729 │ 1237679169840087160 │ 10.869  │\n",
       "│ 1730 │ 1237679434525114569 │ 10.9291 │\n",
       "│ 1731 │ 1237679437736968315 │ 11.3565 │\n",
       "│ 1732 │ 1237679437737754841 │ 11.0959 │\n",
       "│ 1733 │ 1237679503792341122 │ 10.8611 │\n",
       "│ 1734 │ 1237680000914227483 │ 10.2471 │"
      ]
     },
     "execution_count": 282,
     "metadata": {},
     "output_type": "execute_result"
    }
   ],
   "source": [
    "subpred = XGBoost.predict(boost, subfeats)\n",
    "submission = DataFrame(pssid=sub_ids,mass=subpred)"
   ]
  },
  {
   "cell_type": "code",
   "execution_count": 283,
   "metadata": {
    "nbpresent": {
     "id": "9c0d4b02-6684-4dc0-af8e-3285b41a074c"
    }
   },
   "outputs": [
    {
     "data": {
      "text/plain": [
       "\"/Users/ken/Coding/astrohack/Test\""
      ]
     },
     "execution_count": 283,
     "metadata": {},
     "output_type": "execute_result"
    }
   ],
   "source": [
    "pwd()"
   ]
  },
  {
   "cell_type": "code",
   "execution_count": 285,
   "metadata": {
    "collapsed": true,
    "nbpresent": {
     "id": "c6e784fd-67af-4ca8-b079-629b09e0f03c"
    }
   },
   "outputs": [],
   "source": [
    "writetable(\"/Users/ken/Coding/astrohack/AstroWhack_20170510_0515\", submission, separator=',') "
   ]
  },
  {
   "cell_type": "markdown",
   "metadata": {
    "nbpresent": {
     "id": "ef7dac22-4c4d-479c-83f2-5bd4cee4f4a5"
    }
   },
   "source": [
    "# Final submission on full test set"
   ]
  },
  {
   "cell_type": "code",
   "execution_count": null,
   "metadata": {
    "collapsed": true,
    "nbpresent": {
     "id": "34159fa4-cabd-4fc9-ab1c-8ec00d414e56"
    }
   },
   "outputs": [],
   "source": [
    "finalfiles = [joinpath(sub_dir, testfile) for testfile in testfiles];"
   ]
  },
  {
   "cell_type": "code",
   "execution_count": 302,
   "metadata": {
    "nbpresent": {
     "id": "ce8d7f2b-6f8f-46c9-b090-7f532b28bd61"
    }
   },
   "outputs": [
    {
     "name": "stdout",
     "output_type": "stream",
     "text": [
      "string((submeta[:SDSS_ID])[i]) = \"1237680241434689718\"\n"
     ]
    },
    {
     "data": {
      "text/plain": [
       "true"
      ]
     },
     "execution_count": 302,
     "metadata": {},
     "output_type": "execute_result"
    }
   ],
   "source": [
    "# i=8447\n",
    "# @show string(submeta[:SDSS_ID][i])\n",
    "# string(submeta[:SDSS_ID][i]) == testfiles[i][1:end-6]"
   ]
  },
  {
   "cell_type": "code",
   "execution_count": 290,
   "metadata": {
    "nbpresent": {
     "id": "37426630-db6b-4cc3-8af8-3f01e33713f7"
    },
    "scrolled": true
   },
   "outputs": [
    {
     "name": "stdout",
     "output_type": "stream",
     "text": [
      " 36.799306 seconds (1.17 M allocations: 46.200 MB, 0.09% gc time)\n"
     ]
    },
    {
     "data": {
      "text/plain": [
       "8447-element Array{Any,1}:\n",
       " Float32[-0.0238069,-0.0166045,122.753,-13.807,0.89608,1065.0,3.29731,3.62816,4.40761,10.8722,4.31777,2.26844,0.833554,0.275684,0.15025,0.0581227,0.0410931,0.0295711,0.0201667]            \n",
       " Float32[-0.0221257,-0.0153729,199.564,0.0247038,50.3156,716.0,19.3968,5.25251,3.91166,376.235,3.7299,2.92906,0.109497,0.0354269,0.0155805,0.0129812,0.00972552,0.00561858,0.00497146]      \n",
       " Float32[-0.0259305,-0.0183745,294.038,-36.3482,11.5167,2599.0,10.7808,3.27875,3.46207,116.226,6.797,2.36486,1.15873,0.472192,0.194996,0.15448,0.128698,0.0785831,0.0507989]                \n",
       " Float32[-0.0401618,-0.0276491,280.714,-8.86661,3.84388,1667.0,8.22684,4.83535,4.30855,67.6808,3.78111,2.04784,0.389971,0.262359,0.177349,0.0999863,0.0742735,0.0623478,0.0538916]          \n",
       " Float32[-0.0288486,-0.0188661,347.739,-16.9966,9.24423,1760.0,15.1196,4.04307,4.04472,228.603,5.73363,0.528576,0.162444,0.0975928,0.0851719,0.0542921,0.0489128,0.0413476,0.0390132]       \n",
       " Float32[-0.03132,-0.0207546,209.749,-13.0841,1.60218,1399.0,6.886,5.31207,5.27506,47.417,1.26693,0.915717,0.120925,0.0759941,0.0634458,0.0538706,0.0449911,0.0388538,0.0328809]            \n",
       " Float32[-0.0297873,-0.0197511,118.868,-10.9486,2.78487,780.0,5.13959,3.31948,3.17728,26.4153,4.3197,2.83596,0.987817,0.777083,0.221771,0.172872,0.0640944,0.0425459,0.0222147]             \n",
       " Float32[-0.0343748,-0.0243915,271.26,-9.02401,1.77197,1555.0,8.91335,5.59961,5.47906,79.4477,0.981799,0.679148,0.148481,0.128338,0.0818264,0.0600856,0.0531014,0.0449605,0.0384258]        \n",
       " Float32[-0.0393923,-0.0285296,61.7705,-1.9654,2.11399,380.0,5.18219,4.97469,4.36143,26.8551,0.4136,0.268716,0.0313034,0.0176143,0.0144345,0.0106531,0.00594507,0.00478446,0.00460341]      \n",
       " Float32[-0.0306547,-0.0207662,2263.16,-13.4224,20857.4,2627.0,283.967,1.52827,1.44768,80637.5,280.328,34.0924,22.7342,9.89975,3.47196,1.35418,0.928527,0.681344,0.158414]                  \n",
       " Float32[-0.0264197,-0.0191202,104.684,-4.71069,0.979912,611.0,4.50021,3.69801,5.10775,20.2519,5.47439,1.88101,0.749192,0.302666,0.0723942,0.0480454,0.0266352,0.0142695,0.0118341]         \n",
       " Float32[-0.0337478,-0.0227724,35.5786,-1.79747,0.462266,511.0,2.47139,4.8446,5.84067,6.10775,0.580204,0.146385,0.0233278,0.0171749,0.00945096,0.00610758,0.00423711,0.00365466,0.00331078] \n",
       " Float32[-0.0388794,-0.0255626,141.739,-4.50299,14.8038,723.0,10.9707,4.26369,3.8324,120.356,2.54142,0.298381,0.115318,0.049027,0.039763,0.0343339,0.0301527,0.023905,0.0171862]            \n",
       " ⋮                                                                                                                                                                                          \n",
       " Float32[-0.0388188,-0.0269986,100.075,-5.60099,0.574883,921.0,3.70688,5.83307,6.96142,13.7409,0.592127,0.0598994,0.047491,0.0447444,0.0357101,0.0306349,0.0226849,0.021515,0.0192207]      \n",
       " Float32[-0.036615,-0.0252135,85.7534,-11.3435,0.987985,660.0,3.98066,3.93369,5.49533,15.8456,1.58057,0.762529,0.201341,0.128207,0.060366,0.0390301,0.0215266,0.0162954,0.0159873]          \n",
       " Float32[-0.0391021,-0.0269316,59.0693,-0.921251,0.269923,888.0,3.35456,6.46051,7.05811,11.2531,0.0430987,0.0275277,0.0272315,0.0163634,0.013477,0.0100181,0.00900955,0.00783415,0.00689445]\n",
       " Float32[-0.0284323,-0.0201301,188.049,-7.83661,1.15097,1156.0,6.50175,4.90257,5.92607,42.2727,3.57348,0.809907,0.159669,0.108959,0.0543403,0.0305299,0.0266505,0.0246743,0.0205679]        \n",
       " Float32[-0.026701,-0.0171944,47.2168,-3.99243,1.37963,600.0,3.4145,4.91028,5.47022,11.6588,1.04615,0.0787401,0.0281717,0.0146486,0.0115688,0.0106767,0.00829753,0.00550063,0.00392126]     \n",
       " Float32[-0.0436145,-0.0302079,70.2839,-2.24941,3.35821,543.0,5.5219,4.75692,4.75203,30.4914,0.691442,0.21125,0.0741185,0.0359066,0.0270398,0.0255724,0.0229603,0.0133547,0.0102568]        \n",
       " Float32[-0.0311165,-0.0218958,95.7188,-7.26275,2.13064,605.0,4.98077,3.13025,4.26754,24.8081,2.43914,1.362,0.528579,0.408507,0.175709,0.130145,0.0563934,0.0301694,0.0177976]              \n",
       " Float32[-0.0306875,-0.0213437,102.816,-7.09635,2.47202,784.0,5.47459,4.15071,3.69459,29.9711,1.41146,0.987861,0.238531,0.154596,0.0356693,0.0292889,0.0233591,0.0208892,0.0165469]         \n",
       " Float32[-0.0289612,-0.0196617,225.09,-11.4098,2.33924,1111.0,10.5869,4.76706,5.24389,112.083,1.11906,0.376079,0.109124,0.0578122,0.0349365,0.0249957,0.0226111,0.0210753,0.017403]         \n",
       " Float32[-0.0268191,-0.0175035,223.42,-13.9846,1.20453,1393.0,7.33851,5.21909,5.89935,53.8537,2.37723,0.640218,0.137647,0.0904851,0.0603988,0.0484254,0.0301716,0.0283286,0.0254232]        \n",
       " Float32[-0.0295125,-0.0211301,132.101,-7.40629,1.478,739.0,6.49851,4.5906,5.12735,42.2307,3.05652,0.689978,0.232232,0.0753837,0.0302024,0.0206979,0.0188766,0.0151489,0.0139682]           \n",
       " Float32[-0.032073,-0.0208545,78.06,-1.45072,1.17794,807.0,5.30111,5.80034,5.53513,28.1018,0.394634,0.12959,0.0127868,0.0108429,0.0082652,0.0077856,0.00492713,0.0044037,0.00285423]        "
      ]
     },
     "execution_count": 290,
     "metadata": {},
     "output_type": "execute_result"
    }
   ],
   "source": [
    "@time finalresmap = pmap(process, finalfiles)"
   ]
  },
  {
   "cell_type": "code",
   "execution_count": 306,
   "metadata": {
    "collapsed": true,
    "nbpresent": {
     "id": "2a417a52-33ab-460d-8234-aac498b6bd10"
    }
   },
   "outputs": [],
   "source": [
    "res = finalresmap\n",
    "finalfeats = zeros(eltype(res[1]), length(res), 1+length(res[1]))\n",
    "finalfeats[:, 1] = submeta[:Distance]\n",
    "for i = 1:length(res)\n",
    "    finalfeats[i, 2:end] = res[i]\n",
    "end"
   ]
  },
  {
   "cell_type": "code",
   "execution_count": 309,
   "metadata": {
    "nbpresent": {
     "id": "d4319dfb-348a-4983-8fc4-8532f7153679"
    },
    "scrolled": true
   },
   "outputs": [
    {
     "data": {
      "text/html": [
       "<table class=\"data-frame\"><thead><tr><th></th><th>pssid</th><th>mass</th></tr></thead><tbody><tr><th>1</th><td>1237645943978590386</td><td>10.0421915</td></tr><tr><th>2</th><td>1237645943979114582</td><td>10.253867</td></tr><tr><th>3</th><td>1237645943979311221</td><td>10.291842</td></tr><tr><th>4</th><td>1237648672922468973</td><td>10.499608</td></tr><tr><th>5</th><td>1237648673992671592</td><td>11.1321535</td></tr><tr><th>6</th><td>1237648674529476993</td><td>10.320119</td></tr><tr><th>7</th><td>1237648674532753564</td><td>11.115282</td></tr><tr><th>8</th><td>1237648675603874096</td><td>10.217378</td></tr><tr><th>9</th><td>1237648702972887077</td><td>10.962672</td></tr><tr><th>10</th><td>1237648702978654353</td><td>10.688571</td></tr><tr><th>11</th><td>1237648702979244208</td><td>10.409277</td></tr><tr><th>12</th><td>1237648702983897351</td><td>10.241099</td></tr><tr><th>13</th><td>1237648702985797942</td><td>10.920508</td></tr><tr><th>14</th><td>1237648702986125622</td><td>11.209326</td></tr><tr><th>15</th><td>1237648702992023572</td><td>10.736224</td></tr><tr><th>16</th><td>1237648703503794279</td><td>11.2124</td></tr><tr><th>17</th><td>1237648703504515190</td><td>10.264055</td></tr><tr><th>18</th><td>1237648703505432738</td><td>9.918384</td></tr><tr><th>19</th><td>1237648703505629237</td><td>11.054634</td></tr><tr><th>20</th><td>1237648703508119586</td><td>9.894254</td></tr><tr><th>21</th><td>1237648703509758235</td><td>10.147396</td></tr><tr><th>22</th><td>1237648703512772638</td><td>11.356924</td></tr><tr><th>23</th><td>1237648703516508315</td><td>11.507912</td></tr><tr><th>24</th><td>1237648703527649617</td><td>10.6849375</td></tr><tr><th>25</th><td>1237648703531123239</td><td>10.986324</td></tr><tr><th>26</th><td>1237648704045908141</td><td>10.090234</td></tr><tr><th>27</th><td>1237648704046563336</td><td>10.331856</td></tr><tr><th>28</th><td>1237648704054231257</td><td>10.622571</td></tr><tr><th>29</th><td>1237648704055017848</td><td>9.959886</td></tr><tr><th>30</th><td>1237648704057573661</td><td>11.089472</td></tr><tr><th>&vellip;</th><td>&vellip;</td><td>&vellip;</td></tr></tbody></table>"
      ],
      "text/plain": [
       "8447×2 DataFrames.DataFrame\n",
       "│ Row  │ pssid               │ mass    │\n",
       "├──────┼─────────────────────┼─────────┤\n",
       "│ 1    │ 1237645943978590386 │ 10.0422 │\n",
       "│ 2    │ 1237645943979114582 │ 10.2539 │\n",
       "│ 3    │ 1237645943979311221 │ 10.2918 │\n",
       "│ 4    │ 1237648672922468973 │ 10.4996 │\n",
       "│ 5    │ 1237648673992671592 │ 11.1322 │\n",
       "│ 6    │ 1237648674529476993 │ 10.3201 │\n",
       "│ 7    │ 1237648674532753564 │ 11.1153 │\n",
       "│ 8    │ 1237648675603874096 │ 10.2174 │\n",
       "│ 9    │ 1237648702972887077 │ 10.9627 │\n",
       "│ 10   │ 1237648702978654353 │ 10.6886 │\n",
       "│ 11   │ 1237648702979244208 │ 10.4093 │\n",
       "⋮\n",
       "│ 8436 │ 1237679477481341013 │ 9.80159 │\n",
       "│ 8437 │ 1237679503792341122 │ 10.8611 │\n",
       "│ 8438 │ 1237679543509909678 │ 10.3052 │\n",
       "│ 8439 │ 1237680000914227483 │ 10.2471 │\n",
       "│ 8440 │ 1237680071248838902 │ 11.346  │\n",
       "│ 8441 │ 1237680090576781616 │ 10.9764 │\n",
       "│ 8442 │ 1237680092721643956 │ 10.7604 │\n",
       "│ 8443 │ 1237680240907255947 │ 11.2593 │\n",
       "│ 8444 │ 1237680240911319122 │ 10.3873 │\n",
       "│ 8445 │ 1237680240920297607 │ 10.5414 │\n",
       "│ 8446 │ 1237680240923508872 │ 10.1785 │\n",
       "│ 8447 │ 1237680241434689718 │ 10.646  │"
      ]
     },
     "execution_count": 309,
     "metadata": {},
     "output_type": "execute_result"
    }
   ],
   "source": [
    "finalpred = XGBoost.predict(boost, finalfeats)\n",
    "finaldf   = DataFrame(pssid=submeta[:SDSS_ID],mass=finalpred)"
   ]
  },
  {
   "cell_type": "code",
   "execution_count": 310,
   "metadata": {
    "collapsed": true,
    "nbpresent": {
     "id": "9c7785ee-63c1-4daf-8b39-85e86f338f09"
    }
   },
   "outputs": [],
   "source": [
    "writetable(\"/Users/ken/Coding/astrohack/AstroWhack_final_predictions_20170501\", finaldf, separator=',') "
   ]
  },
  {
   "cell_type": "code",
   "execution_count": null,
   "metadata": {
    "collapsed": true,
    "nbpresent": {
     "id": "6fb28df6-144d-4295-a778-9365d006d3aa"
    }
   },
   "outputs": [],
   "source": []
  }
 ],
 "metadata": {
  "anaconda-cloud": {},
  "kernelspec": {
   "display_name": "Julia 0.5.1",
   "language": "julia",
   "name": "julia-0.5"
  },
  "language_info": {
   "file_extension": ".jl",
   "mimetype": "application/julia",
   "name": "julia",
   "version": "0.5.1"
  },
  "nbpresent": {
   "slides": {
    "0a5a8ac4-2af1-4e8e-8888-00b17c6c8876": {
     "id": "0a5a8ac4-2af1-4e8e-8888-00b17c6c8876",
     "prev": "d7edafd3-5e69-498a-8a56-c6dcc6aa3628",
     "regions": {
      "2342b92a-3ee5-47ed-b323-6eb7e4d347a4": {
       "attrs": {
        "height": 0.8,
        "width": 0.5630680433068044,
        "x": 0.39207141320714134,
        "y": 0.09869474120280745
       },
       "content": {
        "cell": "f8d5a8cf-c64b-4895-a238-b088f496f6a8",
        "part": "source"
       },
       "id": "2342b92a-3ee5-47ed-b323-6eb7e4d347a4"
      },
      "eff878d0-4c1b-4358-be56-2df1bc39b0ed": {
       "attrs": {
        "height": 0.8,
        "width": 0.34500824550082454,
        "x": 0.05,
        "y": 0.1
       },
       "content": {
        "cell": "43c71227-5237-4d23-93d1-d0c5e63dfd6f",
        "part": "whole"
       },
       "id": "eff878d0-4c1b-4358-be56-2df1bc39b0ed"
      }
     }
    },
    "37b2150b-f1da-4728-80a4-0cc479bc5a5b": {
     "id": "37b2150b-f1da-4728-80a4-0cc479bc5a5b",
     "layout": "manual",
     "prev": null,
     "regions": {
      "352e1d03-68d8-4886-a2cc-5def1e3b6dc3": {
       "attrs": {
        "height": 0.8,
        "width": 0.8,
        "x": 0.1,
        "y": 0.1
       },
       "content": {
        "cell": "bb43365d-32e1-4b4b-9bb5-678e32db901e",
        "part": "source"
       },
       "id": "352e1d03-68d8-4886-a2cc-5def1e3b6dc3"
      }
     }
    },
    "c2c47010-380f-41de-b5b7-a76a415d1a8c": {
     "id": "c2c47010-380f-41de-b5b7-a76a415d1a8c",
     "prev": "0a5a8ac4-2af1-4e8e-8888-00b17c6c8876",
     "regions": {
      "684ea998-5c6a-47c4-8409-578ae3b60d87": {
       "attrs": {
        "height": 0.8,
        "width": 0.45,
        "x": 0.5,
        "y": 0.1
       },
       "content": {
        "cell": "18722c84-91da-42c6-a03b-74b907647cc9",
        "part": "source"
       },
       "id": "684ea998-5c6a-47c4-8409-578ae3b60d87"
      },
      "b81bad5a-3264-40b8-bd46-e14e88cf057d": {
       "attrs": {
        "height": 0.8,
        "width": 0.45,
        "x": 0.05,
        "y": 0.1
       },
       "content": {
        "cell": "2f3dc41e-5beb-4f22-affb-05b906b9665e",
        "part": "source"
       },
       "id": "b81bad5a-3264-40b8-bd46-e14e88cf057d"
      }
     }
    },
    "d7edafd3-5e69-498a-8a56-c6dcc6aa3628": {
     "id": "d7edafd3-5e69-498a-8a56-c6dcc6aa3628",
     "prev": "37b2150b-f1da-4728-80a4-0cc479bc5a5b",
     "regions": {
      "789c3f00-988a-4b45-83c0-69465319844b": {
       "attrs": {
        "height": 0.8,
        "width": 0.45,
        "x": 0.05,
        "y": 0.1
       },
       "content": {
        "cell": "8afa4d7a-f50e-4f9b-9d86-246349c029f8",
        "part": "source"
       },
       "id": "789c3f00-988a-4b45-83c0-69465319844b"
      },
      "d9777513-b7f5-40c4-baaa-a029fd4160c7": {
       "attrs": {
        "height": 0.8,
        "width": 0.45,
        "x": 0.5,
        "y": 0.1
       },
       "content": {
        "cell": "f54df491-5c03-4afa-a0fd-a33ca5dc9488",
        "part": "source"
       },
       "id": "d9777513-b7f5-40c4-baaa-a029fd4160c7"
      }
     }
    },
    "d907cc56-f653-46ad-b206-ddd723959763": {
     "id": "d907cc56-f653-46ad-b206-ddd723959763",
     "prev": "c2c47010-380f-41de-b5b7-a76a415d1a8c",
     "regions": {
      "20eef08f-587f-4028-8a3c-8bae7e394a72": {
       "attrs": {
        "height": 0.8683760683760685,
        "width": 0.43360323886639685,
        "x": 0.4906882591093118,
        "y": 0.07960713750187429
       },
       "content": {
        "cell": "066e0cf3-fd84-49f3-8632-cd9ab1dac988",
        "part": "source"
       },
       "id": "20eef08f-587f-4028-8a3c-8bae7e394a72"
      },
      "5b03e6a4-1c4c-4c07-9af4-099c206fb539": {
       "attrs": {
        "height": 0.12165898617511521,
        "width": 0.44642857142857145,
        "x": 0.06215437788018435,
        "y": 0.53963133640553
       },
       "content": {
        "cell": "1ccd7d0d-f5e1-4f1d-b723-2a16fa50292f",
        "part": "source"
       },
       "id": "5b03e6a4-1c4c-4c07-9af4-099c206fb539"
      },
      "8d6d642c-eeac-437e-8bfb-0699f9c98fa8": {
       "attrs": {
        "height": 0.2,
        "width": 0.4,
        "x": 0.05414746543778797,
        "y": 0.060368663594470046
       },
       "content": {
        "cell": "b7dc863b-6955-4e1c-8669-e6b966c4d5ac",
        "part": "whole"
       },
       "id": "8d6d642c-eeac-437e-8bfb-0699f9c98fa8"
      },
      "fef5ee7b-c906-4b9f-99b6-c23480ef2b9d": {
       "attrs": {
        "height": 0.2129032258064516,
        "width": 0.4,
        "x": 0.06111751152073735,
        "y": 0.7258064516129032
       },
       "content": {
        "cell": "86abb0d6-1795-4a00-b4b1-53717b9443af",
        "part": "whole"
       },
       "id": "fef5ee7b-c906-4b9f-99b6-c23480ef2b9d"
      }
     }
    }
   },
   "themes": {
    "default": "49b46a9a-07ea-4eaf-897a-f8166501d802",
    "theme": {
     "1b593ac9-f9c0-4b4a-aa8b-08463975cd2c": {
      "backgrounds": {
       "backgroundColor": {
        "background-color": "backgroundColor",
        "id": "backgroundColor"
       }
      },
      "id": "1b593ac9-f9c0-4b4a-aa8b-08463975cd2c",
      "palette": {
       "backgroundColor": {
        "id": "backgroundColor",
        "rgb": [
         256,
         256,
         256
        ]
       },
       "headingColor": {
        "id": "headingColor",
        "rgb": [
         34,
         34,
         34
        ]
       },
       "linkColor": {
        "id": "linkColor",
        "rgb": [
         42,
         118,
         221
        ]
       },
       "mainColor": {
        "id": "mainColor",
        "rgb": [
         34,
         34,
         34
        ]
       }
      },
      "rules": {
       "a": {
        "color": "linkColor"
       },
       "h1": {
        "color": "headingColor",
        "font-family": "Source Sans Pro",
        "font-size": 5.25
       },
       "h2": {
        "color": "headingColor",
        "font-family": "Source Sans Pro",
        "font-size": 4
       },
       "h3": {
        "color": "headingColor",
        "font-family": "Source Sans Pro",
        "font-size": 3.5
       },
       "h4": {
        "color": "headingColor",
        "font-family": "Source Sans Pro",
        "font-size": 3
       },
       "h5": {
        "color": "headingColor",
        "font-family": "Source Sans Pro"
       },
       "h6": {
        "color": "headingColor",
        "font-family": "Source Sans Pro"
       },
       "h7": {
        "color": "headingColor",
        "font-family": "Source Sans Pro"
       },
       "li": {
        "color": "mainColor",
        "font-family": "Source Sans Pro",
        "font-size": 6
       },
       "p": {
        "color": "mainColor",
        "font-family": "Source Sans Pro",
        "font-size": 6
       }
      },
      "text-base": {
       "color": "mainColor",
       "font-family": "Source Sans Pro",
       "font-size": 6
      }
     },
     "3be6637d-1a15-4b62-9c72-5af0aecf22f8": {
      "backgrounds": {
       "backgroundColor": {
        "background-color": "backgroundColor",
        "id": "backgroundColor"
       }
      },
      "id": "3be6637d-1a15-4b62-9c72-5af0aecf22f8",
      "palette": {
       "backgroundColor": {
        "id": "backgroundColor",
        "rgb": [
         34,
         34,
         34
        ]
       },
       "headingColor": {
        "id": "headingColor",
        "rgb": [
         238,
         238,
         238
        ]
       },
       "linkColor": {
        "id": "linkColor",
        "rgb": [
         170,
         34,
         51
        ]
       },
       "mainColor": {
        "id": "mainColor",
        "rgb": [
         238,
         238,
         238
        ]
       }
      },
      "rules": {
       "a": {
        "color": "linkColor"
       },
       "h1": {
        "color": "headingColor",
        "font-family": "Ubuntu",
        "font-size": 7
       },
       "h2": {
        "color": "headingColor",
        "font-family": "Ubuntu",
        "font-size": 5
       },
       "h3": {
        "color": "headingColor",
        "font-family": "Ubuntu",
        "font-size": 3.75
       },
       "h4": {
        "color": "headingColor",
        "font-family": "Ubuntu",
        "font-size": 3
       },
       "h5": {
        "color": "headingColor",
        "font-family": "Ubuntu"
       },
       "h6": {
        "color": "headingColor",
        "font-family": "Ubuntu"
       },
       "h7": {
        "color": "headingColor",
        "font-family": "Ubuntu"
       },
       "li": {
        "color": "mainColor",
        "font-family": "Ubuntu",
        "font-size": 5
       },
       "p": {
        "color": "mainColor",
        "font-family": "Ubuntu",
        "font-size": 5
       }
      },
      "text-base": {
       "color": "mainColor",
       "font-family": "Ubuntu",
       "font-size": 5
      }
     },
     "49b46a9a-07ea-4eaf-897a-f8166501d802": {
      "backgrounds": {
       "backgroundColor": {
        "background-color": "backgroundColor",
        "id": "backgroundColor"
       }
      },
      "id": "49b46a9a-07ea-4eaf-897a-f8166501d802",
      "palette": {
       "backgroundColor": {
        "id": "backgroundColor",
        "rgb": [
         256,
         256,
         256
        ]
       },
       "headingColor": {
        "id": "headingColor",
        "rgb": [
         0,
         0,
         0
        ]
       },
       "linkColor": {
        "id": "linkColor",
        "rgb": [
         0,
         0,
         139
        ]
       },
       "mainColor": {
        "id": "mainColor",
        "rgb": [
         0,
         0,
         0
        ]
       }
      },
      "rules": {
       "a": {
        "color": "linkColor"
       },
       "h1": {
        "color": "headingColor",
        "font-family": "News Cycle",
        "font-size": 7
       },
       "h2": {
        "color": "headingColor",
        "font-family": "News Cycle",
        "font-size": 5
       },
       "h3": {
        "color": "headingColor",
        "font-family": "News Cycle",
        "font-size": 3.75
       },
       "h4": {
        "color": "headingColor",
        "font-family": "News Cycle",
        "font-size": 3
       },
       "h5": {
        "color": "headingColor",
        "font-family": "News Cycle"
       },
       "h6": {
        "color": "headingColor",
        "font-family": "News Cycle"
       },
       "h7": {
        "color": "headingColor",
        "font-family": "News Cycle"
       },
       "li": {
        "color": "mainColor",
        "font-family": "Lato",
        "font-size": 5
       },
       "p": {
        "color": "mainColor",
        "font-family": "Lato",
        "font-size": 5
       }
      },
      "text-base": {
       "color": "mainColor",
       "font-family": "Lato",
       "font-size": 5
      }
     },
     "86629c78-bb84-44b0-a754-6f681560829f": {
      "backgrounds": {
       "backgroundColor": {
        "background-color": "backgroundColor",
        "id": "backgroundColor"
       }
      },
      "id": "86629c78-bb84-44b0-a754-6f681560829f",
      "palette": {
       "backgroundColor": {
        "id": "backgroundColor",
        "rgb": [
         34,
         34,
         34
        ]
       },
       "headingColor": {
        "id": "headingColor",
        "rgb": [
         256,
         256,
         256
        ]
       },
       "linkColor": {
        "id": "linkColor",
        "rgb": [
         66,
         175,
         250
        ]
       },
       "mainColor": {
        "id": "mainColor",
        "rgb": [
         256,
         256,
         256
        ]
       }
      },
      "rules": {
       "a": {
        "color": "linkColor"
       },
       "h1": {
        "color": "headingColor",
        "font-family": "Source Sans Pro",
        "font-size": 5.25
       },
       "h2": {
        "color": "headingColor",
        "font-family": "Source Sans Pro",
        "font-size": 4
       },
       "h3": {
        "color": "headingColor",
        "font-family": "Source Sans Pro",
        "font-size": 3.5
       },
       "h4": {
        "color": "headingColor",
        "font-family": "Source Sans Pro",
        "font-size": 3
       },
       "h5": {
        "color": "headingColor",
        "font-family": "Source Sans Pro"
       },
       "h6": {
        "color": "headingColor",
        "font-family": "Source Sans Pro"
       },
       "h7": {
        "color": "headingColor",
        "font-family": "Source Sans Pro"
       },
       "li": {
        "color": "mainColor",
        "font-family": "Source Sans Pro",
        "font-size": 6
       },
       "p": {
        "color": "mainColor",
        "font-family": "Source Sans Pro",
        "font-size": 6
       }
      },
      "text-base": {
       "color": "mainColor",
       "font-family": "Source Sans Pro",
       "font-size": 6
      }
     },
     "8c0ca1cb-86e8-45ab-b083-22aba647cb26": {
      "backgrounds": {
       "backgroundColor": {
        "background-color": "backgroundColor",
        "id": "backgroundColor"
       }
      },
      "id": "8c0ca1cb-86e8-45ab-b083-22aba647cb26",
      "palette": {
       "backgroundColor": {
        "id": "backgroundColor",
        "rgb": [
         0,
         43,
         54
        ]
       },
       "headingColor": {
        "id": "headingColor",
        "rgb": [
         238,
         232,
         213
        ]
       },
       "linkColor": {
        "id": "linkColor",
        "rgb": [
         38,
         139,
         210
        ]
       },
       "mainColor": {
        "id": "mainColor",
        "rgb": [
         147,
         161,
         161
        ]
       }
      },
      "rules": {
       "a": {
        "color": "linkColor"
       },
       "h1": {
        "color": "headingColor",
        "font-family": "Oswald",
        "font-size": 7
       },
       "h2": {
        "color": "headingColor",
        "font-family": "Oswald",
        "font-size": 5
       },
       "h3": {
        "color": "headingColor",
        "font-family": "Oswald",
        "font-size": 3.75
       },
       "h4": {
        "color": "headingColor",
        "font-family": "Oswald",
        "font-size": 3
       },
       "h5": {
        "color": "headingColor",
        "font-family": "Oswald"
       },
       "h6": {
        "color": "headingColor",
        "font-family": "Oswald"
       },
       "h7": {
        "color": "headingColor",
        "font-family": "Oswald"
       },
       "li": {
        "color": "mainColor",
        "font-family": "Lato",
        "font-size": 5
       },
       "p": {
        "color": "mainColor",
        "font-family": "Lato",
        "font-size": 5
       }
      },
      "text-base": {
       "color": "mainColor",
       "font-family": "Lato",
       "font-size": 5
      }
     },
     "a4a7e91a-3bff-4380-80a6-54d2a16d2b1d": {
      "backgrounds": {
       "backgroundColor": {
        "background-color": "backgroundColor",
        "id": "backgroundColor"
       }
      },
      "id": "a4a7e91a-3bff-4380-80a6-54d2a16d2b1d",
      "palette": {
       "backgroundColor": {
        "id": "backgroundColor",
        "rgb": [
         247,
         251,
         252
        ]
       },
       "headingColor": {
        "id": "headingColor",
        "rgb": [
         51,
         51,
         51
        ]
       },
       "linkColor": {
        "id": "linkColor",
        "rgb": [
         59,
         117,
         158
        ]
       },
       "mainColor": {
        "id": "mainColor",
        "rgb": [
         51,
         51,
         51
        ]
       }
      },
      "rules": {
       "a": {
        "color": "linkColor"
       },
       "h1": {
        "color": "headingColor",
        "font-family": "Quicksand",
        "font-size": 7
       },
       "h2": {
        "color": "headingColor",
        "font-family": "Quicksand",
        "font-size": 5
       },
       "h3": {
        "color": "headingColor",
        "font-family": "Quicksand",
        "font-size": 3.75
       },
       "h4": {
        "color": "headingColor",
        "font-family": "Quicksand",
        "font-size": 3
       },
       "h5": {
        "color": "headingColor",
        "font-family": "Quicksand"
       },
       "h6": {
        "color": "headingColor",
        "font-family": "Quicksand"
       },
       "h7": {
        "color": "headingColor",
        "font-family": "Quicksand"
       },
       "li": {
        "color": "mainColor",
        "font-family": "Open Sans",
        "font-size": 5
       },
       "p": {
        "color": "mainColor",
        "font-family": "Open Sans",
        "font-size": 5
       }
      },
      "text-base": {
       "color": "mainColor",
       "font-family": "Open Sans",
       "font-size": 5
      }
     },
     "ae682c11-dca3-4f26-a3d2-389b122612ed": {
      "backgrounds": {
       "backgroundColor": {
        "background-color": "backgroundColor",
        "id": "backgroundColor"
       }
      },
      "id": "ae682c11-dca3-4f26-a3d2-389b122612ed",
      "palette": {
       "backgroundColor": {
        "id": "backgroundColor",
        "rgb": [
         247,
         243,
         222
        ]
       },
       "headingColor": {
        "id": "headingColor",
        "rgb": [
         51,
         51,
         51
        ]
       },
       "linkColor": {
        "id": "linkColor",
        "rgb": [
         139,
         116,
         61
        ]
       },
       "mainColor": {
        "id": "mainColor",
        "rgb": [
         51,
         51,
         51
        ]
       }
      },
      "rules": {
       "a": {
        "color": "linkColor"
       },
       "h1": {
        "color": "headingColor",
        "font-family": "Oswald",
        "font-size": 7
       },
       "h2": {
        "color": "headingColor",
        "font-family": "Oswald",
        "font-size": 5
       },
       "h3": {
        "color": "headingColor",
        "font-family": "Oswald",
        "font-size": 3.75
       },
       "h4": {
        "color": "headingColor",
        "font-family": "Oswald",
        "font-size": 3
       },
       "h5": {
        "color": "headingColor",
        "font-family": "Oswald"
       },
       "h6": {
        "color": "headingColor",
        "font-family": "Oswald"
       },
       "h7": {
        "color": "headingColor",
        "font-family": "Oswald"
       },
       "li": {
        "color": "mainColor",
        "font-family": "Lato",
        "font-size": 5
       },
       "p": {
        "color": "mainColor",
        "font-family": "Lato",
        "font-size": 5
       }
      },
      "text-base": {
       "color": "mainColor",
       "font-family": "Lato",
       "font-size": 5
      }
     },
     "d47aa599-a54d-4cd3-b019-c214b4bd620c": {
      "backgrounds": {
       "dc7afa04-bf90-40b1-82a5-726e3cff5267": {
        "background-color": "31af15d2-7e15-44c5-ab5e-e04b16a89eff",
        "id": "dc7afa04-bf90-40b1-82a5-726e3cff5267"
       }
      },
      "id": "d47aa599-a54d-4cd3-b019-c214b4bd620c",
      "palette": {
       "19cc588f-0593-49c9-9f4b-e4d7cc113b1c": {
        "id": "19cc588f-0593-49c9-9f4b-e4d7cc113b1c",
        "rgb": [
         252,
         252,
         252
        ]
       },
       "31af15d2-7e15-44c5-ab5e-e04b16a89eff": {
        "id": "31af15d2-7e15-44c5-ab5e-e04b16a89eff",
        "rgb": [
         68,
         68,
         68
        ]
       },
       "50f92c45-a630-455b-aec3-788680ec7410": {
        "id": "50f92c45-a630-455b-aec3-788680ec7410",
        "rgb": [
         197,
         226,
         245
        ]
       },
       "c5cc3653-2ee1-402a-aba2-7caae1da4f6c": {
        "id": "c5cc3653-2ee1-402a-aba2-7caae1da4f6c",
        "rgb": [
         43,
         126,
         184
        ]
       },
       "efa7f048-9acb-414c-8b04-a26811511a21": {
        "id": "efa7f048-9acb-414c-8b04-a26811511a21",
        "rgb": [
         25.118061674008803,
         73.60176211453744,
         107.4819383259912
        ]
       }
      },
      "rules": {
       "a": {
        "color": "19cc588f-0593-49c9-9f4b-e4d7cc113b1c"
       },
       "blockquote": {
        "color": "50f92c45-a630-455b-aec3-788680ec7410",
        "font-size": 3
       },
       "code": {
        "font-family": "Anonymous Pro"
       },
       "h1": {
        "color": "19cc588f-0593-49c9-9f4b-e4d7cc113b1c",
        "font-family": "Merriweather",
        "font-size": 8
       },
       "h2": {
        "color": "19cc588f-0593-49c9-9f4b-e4d7cc113b1c",
        "font-family": "Merriweather",
        "font-size": 6
       },
       "h3": {
        "color": "50f92c45-a630-455b-aec3-788680ec7410",
        "font-family": "Lato",
        "font-size": 5.5
       },
       "h4": {
        "color": "c5cc3653-2ee1-402a-aba2-7caae1da4f6c",
        "font-family": "Lato",
        "font-size": 5
       },
       "h5": {
        "font-family": "Lato"
       },
       "h6": {
        "font-family": "Lato"
       },
       "h7": {
        "font-family": "Lato"
       },
       "li": {
        "color": "50f92c45-a630-455b-aec3-788680ec7410",
        "font-size": 3.25
       },
       "pre": {
        "font-family": "Anonymous Pro",
        "font-size": 4
       }
      },
      "text-base": {
       "color": "19cc588f-0593-49c9-9f4b-e4d7cc113b1c",
       "font-family": "Lato",
       "font-size": 4
      }
     },
     "f8bc6416-c6b6-46d3-b1ec-0afb5e1f2c78": {
      "backgrounds": {
       "backgroundColor": {
        "background-color": "backgroundColor",
        "id": "backgroundColor"
       }
      },
      "id": "f8bc6416-c6b6-46d3-b1ec-0afb5e1f2c78",
      "palette": {
       "backgroundColor": {
        "id": "backgroundColor",
        "rgb": [
         43,
         43,
         43
        ]
       },
       "headingColor": {
        "id": "headingColor",
        "rgb": [
         238,
         238,
         238
        ]
       },
       "linkColor": {
        "id": "linkColor",
        "rgb": [
         19,
         218,
         236
        ]
       },
       "mainColor": {
        "id": "mainColor",
        "rgb": [
         238,
         238,
         238
        ]
       }
      },
      "rules": {
       "a": {
        "color": "linkColor"
       },
       "h1": {
        "color": "headingColor",
        "font-family": "Oswald",
        "font-size": 7
       },
       "h2": {
        "color": "headingColor",
        "font-family": "Oswald",
        "font-size": 5
       },
       "h3": {
        "color": "headingColor",
        "font-family": "Oswald",
        "font-size": 3.75
       },
       "h4": {
        "color": "headingColor",
        "font-family": "Oswald",
        "font-size": 3
       },
       "h5": {
        "color": "headingColor",
        "font-family": "Oswald"
       },
       "h6": {
        "color": "headingColor",
        "font-family": "Oswald"
       },
       "h7": {
        "color": "headingColor",
        "font-family": "Oswald"
       },
       "li": {
        "color": "mainColor",
        "font-family": "Lato",
        "font-size": 5
       },
       "p": {
        "color": "mainColor",
        "font-family": "Lato",
        "font-size": 5
       }
      },
      "text-base": {
       "color": "mainColor",
       "font-family": "Lato",
       "font-size": 5
      }
     }
    }
   }
  }
 },
 "nbformat": 4,
 "nbformat_minor": 2
}
